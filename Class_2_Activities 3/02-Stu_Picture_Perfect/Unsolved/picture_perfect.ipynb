{
 "cells": [
  {
   "cell_type": "markdown",
   "metadata": {},
   "source": [
    "# Picture Perfect\n",
    "\n",
    "Still in your role as a data analyst for a video streaming service, you have now been asked by your manager to compare and contrast the revenue numbers by quarter for the various international regions.\n",
    "\n",
    "Be sure to consult the [HvPlot Customization](https://hvplot.holoviz.org/user_guide/Customization.html) page for additional opportunities of aesthetic improvement."
   ]
  },
  {
   "cell_type": "code",
   "execution_count": 41,
   "metadata": {},
   "outputs": [],
   "source": [
    "# Import the required libraries and dependencies\n",
    "import pandas as pd\n",
    "import hvplot.pandas\n",
    "from pathlib import Path"
   ]
  },
  {
   "cell_type": "markdown",
   "metadata": {},
   "source": [
    "## Step 1: Prepare the Regional Revenue DataFrame"
   ]
  },
  {
   "cell_type": "code",
   "execution_count": 42,
   "metadata": {},
   "outputs": [
    {
     "data": {
      "text/html": [
       "<div>\n",
       "<style scoped>\n",
       "    .dataframe tbody tr th:only-of-type {\n",
       "        vertical-align: middle;\n",
       "    }\n",
       "\n",
       "    .dataframe tbody tr th {\n",
       "        vertical-align: top;\n",
       "    }\n",
       "\n",
       "    .dataframe thead th {\n",
       "        text-align: right;\n",
       "    }\n",
       "</style>\n",
       "<table border=\"1\" class=\"dataframe\">\n",
       "  <thead>\n",
       "    <tr style=\"text-align: right;\">\n",
       "      <th></th>\n",
       "      <th>Area</th>\n",
       "      <th>Years</th>\n",
       "      <th>Revenue</th>\n",
       "    </tr>\n",
       "  </thead>\n",
       "  <tbody>\n",
       "    <tr>\n",
       "      <th>0</th>\n",
       "      <td>United States and Canada</td>\n",
       "      <td>Q1 - 2018</td>\n",
       "      <td>1976157000</td>\n",
       "    </tr>\n",
       "    <tr>\n",
       "      <th>1</th>\n",
       "      <td>Europe, Middle East and Africa</td>\n",
       "      <td>Q1 - 2018</td>\n",
       "      <td>886649000</td>\n",
       "    </tr>\n",
       "    <tr>\n",
       "      <th>2</th>\n",
       "      <td>Latin America</td>\n",
       "      <td>Q1 - 2018</td>\n",
       "      <td>540182000</td>\n",
       "    </tr>\n",
       "    <tr>\n",
       "      <th>3</th>\n",
       "      <td>Asia-Pacific</td>\n",
       "      <td>Q1 - 2018</td>\n",
       "      <td>199117000</td>\n",
       "    </tr>\n",
       "    <tr>\n",
       "      <th>4</th>\n",
       "      <td>United States and Canada</td>\n",
       "      <td>Q2 - 2018</td>\n",
       "      <td>2049546000</td>\n",
       "    </tr>\n",
       "  </tbody>\n",
       "</table>\n",
       "</div>"
      ],
      "text/plain": [
       "                             Area      Years     Revenue\n",
       "0        United States and Canada  Q1 - 2018  1976157000\n",
       "1  Europe, Middle East and Africa  Q1 - 2018   886649000\n",
       "2                   Latin America  Q1 - 2018   540182000\n",
       "3                    Asia-Pacific  Q1 - 2018   199117000\n",
       "4        United States and Canada  Q2 - 2018  2049546000"
      ]
     },
     "execution_count": 42,
     "metadata": {},
     "output_type": "execute_result"
    }
   ],
   "source": [
    "# Read in regional_revenue.csv file into a Pandas DataFrame\n",
    "regional_revenue_df = pd.read_csv(Path('../Resources/regional_revenue.csv'))\n",
    "\n",
    "# Review the DataFrame\n",
    "regional_revenue_df.head()\n"
   ]
  },
  {
   "cell_type": "markdown",
   "metadata": {},
   "source": [
    "## Step 2: Create a plot that visualizes the growth in revenue for the United States and Canada"
   ]
  },
  {
   "cell_type": "code",
   "execution_count": 43,
   "metadata": {},
   "outputs": [
    {
     "data": {},
     "metadata": {},
     "output_type": "display_data"
    },
    {
     "data": {
      "application/vnd.holoviews_exec.v0+json": "",
      "text/html": [
       "<div id='4181'>\n",
       "  <div class=\"bk-root\" id=\"50bdccee-47b8-4d21-b96e-a29220724142\" data-root-id=\"4181\"></div>\n",
       "</div>\n",
       "<script type=\"application/javascript\">(function(root) {\n",
       "  function embed_document(root) {\n",
       "    var docs_json = {\"947c8295-e75a-448f-952e-15e7d919688a\":{\"defs\":[{\"extends\":null,\"module\":null,\"name\":\"ReactiveHTML1\",\"overrides\":[],\"properties\":[]},{\"extends\":null,\"module\":null,\"name\":\"FlexBox1\",\"overrides\":[],\"properties\":[{\"default\":\"flex-start\",\"kind\":null,\"name\":\"align_content\"},{\"default\":\"flex-start\",\"kind\":null,\"name\":\"align_items\"},{\"default\":\"row\",\"kind\":null,\"name\":\"flex_direction\"},{\"default\":\"wrap\",\"kind\":null,\"name\":\"flex_wrap\"},{\"default\":\"flex-start\",\"kind\":null,\"name\":\"justify_content\"}]},{\"extends\":null,\"module\":null,\"name\":\"GridStack1\",\"overrides\":[],\"properties\":[{\"default\":\"warn\",\"kind\":null,\"name\":\"mode\"},{\"default\":null,\"kind\":null,\"name\":\"ncols\"},{\"default\":null,\"kind\":null,\"name\":\"nrows\"},{\"default\":true,\"kind\":null,\"name\":\"allow_resize\"},{\"default\":true,\"kind\":null,\"name\":\"allow_drag\"},{\"default\":[],\"kind\":null,\"name\":\"state\"}]},{\"extends\":null,\"module\":null,\"name\":\"click1\",\"overrides\":[],\"properties\":[{\"default\":\"\",\"kind\":null,\"name\":\"terminal_output\"},{\"default\":\"\",\"kind\":null,\"name\":\"debug_name\"},{\"default\":0,\"kind\":null,\"name\":\"clears\"}]},{\"extends\":null,\"module\":null,\"name\":\"NotificationAreaBase1\",\"overrides\":[],\"properties\":[{\"default\":\"bottom-right\",\"kind\":null,\"name\":\"position\"},{\"default\":0,\"kind\":null,\"name\":\"_clear\"}]},{\"extends\":null,\"module\":null,\"name\":\"NotificationArea1\",\"overrides\":[],\"properties\":[{\"default\":[],\"kind\":null,\"name\":\"notifications\"},{\"default\":\"bottom-right\",\"kind\":null,\"name\":\"position\"},{\"default\":0,\"kind\":null,\"name\":\"_clear\"},{\"default\":[{\"background\":\"#ffc107\",\"icon\":{\"className\":\"fas fa-exclamation-triangle\",\"color\":\"white\",\"tagName\":\"i\"},\"type\":\"warning\"},{\"background\":\"#007bff\",\"icon\":{\"className\":\"fas fa-info-circle\",\"color\":\"white\",\"tagName\":\"i\"},\"type\":\"info\"}],\"kind\":null,\"name\":\"types\"}]},{\"extends\":null,\"module\":null,\"name\":\"Notification\",\"overrides\":[],\"properties\":[{\"default\":null,\"kind\":null,\"name\":\"background\"},{\"default\":3000,\"kind\":null,\"name\":\"duration\"},{\"default\":null,\"kind\":null,\"name\":\"icon\"},{\"default\":\"\",\"kind\":null,\"name\":\"message\"},{\"default\":null,\"kind\":null,\"name\":\"notification_type\"},{\"default\":false,\"kind\":null,\"name\":\"_destroyed\"}]},{\"extends\":null,\"module\":null,\"name\":\"TemplateActions1\",\"overrides\":[],\"properties\":[{\"default\":0,\"kind\":null,\"name\":\"open_modal\"},{\"default\":0,\"kind\":null,\"name\":\"close_modal\"}]},{\"extends\":null,\"module\":null,\"name\":\"MaterialTemplateActions1\",\"overrides\":[],\"properties\":[{\"default\":0,\"kind\":null,\"name\":\"open_modal\"},{\"default\":0,\"kind\":null,\"name\":\"close_modal\"}]}],\"roots\":{\"references\":[{\"attributes\":{\"axis\":{\"id\":\"4195\"},\"coordinates\":null,\"grid_line_color\":null,\"group\":null,\"ticker\":null},\"id\":\"4197\",\"type\":\"Grid\"},{\"attributes\":{\"line_color\":\"#30a2da\",\"line_width\":2,\"x\":{\"field\":\"Years\"},\"y\":{\"field\":\"Revenue\"}},\"id\":\"4223\",\"type\":\"Line\"},{\"attributes\":{},\"id\":\"4199\",\"type\":\"BasicTicker\"},{\"attributes\":{\"axis_label\":\"\",\"coordinates\":null,\"formatter\":{\"id\":\"4228\"},\"group\":null,\"major_label_policy\":{\"id\":\"4229\"},\"ticker\":{\"id\":\"4199\"}},\"id\":\"4198\",\"type\":\"LinearAxis\"},{\"attributes\":{\"line_color\":\"#30a2da\",\"line_width\":2,\"x\":{\"field\":\"Years\"},\"y\":{\"field\":\"Revenue\"}},\"id\":\"4218\",\"type\":\"Line\"},{\"attributes\":{},\"id\":\"4226\",\"type\":\"AllLabels\"},{\"attributes\":{\"data\":{\"Revenue\":[1976157000,2049546000,2094850000,2160979000,2256851000,2501199000,2621250000,2671908000,2702776000,2839670000],\"Years\":[\"Q1 - 2018\",\"Q2 - 2018\",\"Q3 - 2018\",\"Q4 - 2018\",\"Q1 - 2019\",\"Q2 - 2019\",\"Q3 - 2019\",\"Q4 - 2019\",\"Q1 - 2020\",\"Q2 - 2020\"]},\"selected\":{\"id\":\"4216\"},\"selection_policy\":{\"id\":\"4237\"}},\"id\":\"4215\",\"type\":\"ColumnDataSource\"},{\"attributes\":{},\"id\":\"4225\",\"type\":\"CategoricalTickFormatter\"},{\"attributes\":{\"line_alpha\":0.2,\"line_color\":\"#30a2da\",\"line_width\":2,\"x\":{\"field\":\"Years\"},\"y\":{\"field\":\"Revenue\"}},\"id\":\"4220\",\"type\":\"Line\"},{\"attributes\":{\"line_alpha\":0.1,\"line_color\":\"#30a2da\",\"line_width\":2,\"x\":{\"field\":\"Years\"},\"y\":{\"field\":\"Revenue\"}},\"id\":\"4219\",\"type\":\"Line\"},{\"attributes\":{\"callback\":null,\"renderers\":[{\"id\":\"4221\"}],\"tags\":[\"hv_created\"],\"tooltips\":[[\"Years\",\"@{Years}\"],[\"Revenue\",\"@{Revenue}\"]]},\"id\":\"4185\",\"type\":\"HoverTool\"},{\"attributes\":{\"tools\":[{\"id\":\"4185\"},{\"id\":\"4202\"},{\"id\":\"4203\"},{\"id\":\"4204\"},{\"id\":\"4205\"},{\"id\":\"4206\"}]},\"id\":\"4208\",\"type\":\"Toolbar\"},{\"attributes\":{},\"id\":\"4216\",\"type\":\"Selection\"},{\"attributes\":{},\"id\":\"4228\",\"type\":\"BasicTickFormatter\"},{\"attributes\":{\"margin\":[5,5,5,5],\"name\":\"HSpacer03581\",\"sizing_mode\":\"stretch_width\"},\"id\":\"4182\",\"type\":\"Spacer\"},{\"attributes\":{},\"id\":\"4202\",\"type\":\"SaveTool\"},{\"attributes\":{\"margin\":[5,5,5,5],\"name\":\"HSpacer03582\",\"sizing_mode\":\"stretch_width\"},\"id\":\"4240\",\"type\":\"Spacer\"},{\"attributes\":{},\"id\":\"4229\",\"type\":\"AllLabels\"},{\"attributes\":{\"below\":[{\"id\":\"4195\"}],\"center\":[{\"id\":\"4197\"},{\"id\":\"4201\"}],\"height\":300,\"left\":[{\"id\":\"4198\"}],\"margin\":[5,5,5,5],\"min_border_bottom\":10,\"min_border_left\":10,\"min_border_right\":10,\"min_border_top\":10,\"renderers\":[{\"id\":\"4221\"}],\"sizing_mode\":\"fixed\",\"title\":{\"id\":\"4187\"},\"toolbar\":{\"id\":\"4208\"},\"width\":700,\"x_range\":{\"id\":\"4183\"},\"x_scale\":{\"id\":\"4191\"},\"y_range\":{\"id\":\"4184\"},\"y_scale\":{\"id\":\"4193\"}},\"id\":\"4186\",\"subtype\":\"Figure\",\"type\":\"Plot\"},{\"attributes\":{},\"id\":\"4203\",\"type\":\"PanTool\"},{\"attributes\":{},\"id\":\"4237\",\"type\":\"UnionRenderers\"},{\"attributes\":{},\"id\":\"4204\",\"type\":\"WheelZoomTool\"},{\"attributes\":{\"overlay\":{\"id\":\"4207\"}},\"id\":\"4205\",\"type\":\"BoxZoomTool\"},{\"attributes\":{},\"id\":\"4191\",\"type\":\"CategoricalScale\"},{\"attributes\":{\"coordinates\":null,\"data_source\":{\"id\":\"4215\"},\"glyph\":{\"id\":\"4218\"},\"group\":null,\"hover_glyph\":null,\"muted_glyph\":{\"id\":\"4220\"},\"nonselection_glyph\":{\"id\":\"4219\"},\"selection_glyph\":{\"id\":\"4223\"},\"view\":{\"id\":\"4222\"}},\"id\":\"4221\",\"type\":\"GlyphRenderer\"},{\"attributes\":{\"end\":2926021300.0,\"reset_end\":2926021300.0,\"reset_start\":1889805700.0,\"start\":1889805700.0,\"tags\":[[[\"Revenue\",\"Revenue\",null]]]},\"id\":\"4184\",\"type\":\"Range1d\"},{\"attributes\":{\"coordinates\":null,\"group\":null,\"text\":\"Revenue\",\"text_color\":\"black\",\"text_font_size\":\"12pt\"},\"id\":\"4187\",\"type\":\"Title\"},{\"attributes\":{\"source\":{\"id\":\"4215\"}},\"id\":\"4222\",\"type\":\"CDSView\"},{\"attributes\":{},\"id\":\"4206\",\"type\":\"ResetTool\"},{\"attributes\":{\"bottom_units\":\"screen\",\"coordinates\":null,\"fill_alpha\":0.5,\"fill_color\":\"lightgrey\",\"group\":null,\"left_units\":\"screen\",\"level\":\"overlay\",\"line_alpha\":1.0,\"line_color\":\"black\",\"line_dash\":[4,4],\"line_width\":2,\"right_units\":\"screen\",\"syncable\":false,\"top_units\":\"screen\"},\"id\":\"4207\",\"type\":\"BoxAnnotation\"},{\"attributes\":{\"factors\":[\"Q1 - 2018\",\"Q2 - 2018\",\"Q3 - 2018\",\"Q4 - 2018\",\"Q1 - 2019\",\"Q2 - 2019\",\"Q3 - 2019\",\"Q4 - 2019\",\"Q1 - 2020\",\"Q2 - 2020\"],\"tags\":[[[\"Years\",\"Years\",null]]]},\"id\":\"4183\",\"type\":\"FactorRange\"},{\"attributes\":{\"axis\":{\"id\":\"4198\"},\"coordinates\":null,\"dimension\":1,\"grid_line_color\":null,\"group\":null,\"ticker\":null},\"id\":\"4201\",\"type\":\"Grid\"},{\"attributes\":{},\"id\":\"4193\",\"type\":\"LinearScale\"},{\"attributes\":{},\"id\":\"4196\",\"type\":\"CategoricalTicker\"},{\"attributes\":{\"axis_label\":\"Years\",\"coordinates\":null,\"formatter\":{\"id\":\"4225\"},\"group\":null,\"major_label_policy\":{\"id\":\"4226\"},\"ticker\":{\"id\":\"4196\"}},\"id\":\"4195\",\"type\":\"CategoricalAxis\"},{\"attributes\":{\"children\":[{\"id\":\"4182\"},{\"id\":\"4186\"},{\"id\":\"4240\"}],\"margin\":[0,0,0,0],\"name\":\"Row03577\",\"tags\":[\"embedded\"]},\"id\":\"4181\",\"type\":\"Row\"}],\"root_ids\":[\"4181\"]},\"title\":\"Bokeh Application\",\"version\":\"2.4.3\"}};\n",
       "    var render_items = [{\"docid\":\"947c8295-e75a-448f-952e-15e7d919688a\",\"root_ids\":[\"4181\"],\"roots\":{\"4181\":\"50bdccee-47b8-4d21-b96e-a29220724142\"}}];\n",
       "    root.Bokeh.embed.embed_items_notebook(docs_json, render_items);\n",
       "  }\n",
       "  if (root.Bokeh !== undefined && root.Bokeh.Panel !== undefined) {\n",
       "    embed_document(root);\n",
       "  } else {\n",
       "    var attempts = 0;\n",
       "    var timer = setInterval(function(root) {\n",
       "      if (root.Bokeh !== undefined && root.Bokeh.Panel !== undefined) {\n",
       "        clearInterval(timer);\n",
       "        embed_document(root);\n",
       "      } else if (document.readyState == \"complete\") {\n",
       "        attempts++;\n",
       "        if (attempts > 200) {\n",
       "          clearInterval(timer);\n",
       "          console.log(\"Bokeh: ERROR: Unable to run BokehJS code because BokehJS library is missing\");\n",
       "        }\n",
       "      }\n",
       "    }, 25, root)\n",
       "  }\n",
       "})(window);</script>"
      ],
      "text/plain": [
       ":Curve   [Years]   (Revenue)"
      ]
     },
     "execution_count": 43,
     "metadata": {
      "application/vnd.holoviews_exec.v0+json": {
       "id": "4181"
      }
     },
     "output_type": "execute_result"
    }
   ],
   "source": [
    "# Create a DataFrame that slices the subscriber data for the United States and Canada\n",
    "us_canada_revenue = regional_revenue_df.loc[regional_revenue_df['Area']=='United States and Canada']\n",
    "\n",
    "# Set the index of the DataFrame to Years\n",
    "us_canada_revenue = us_canada_revenue.set_index('Years')\n",
    "\n",
    "# Create a line plot of the US and Canada Revenue data\n",
    "us_canada_revenue['Revenue'].hvplot()\n"
   ]
  },
  {
   "cell_type": "markdown",
   "metadata": {},
   "source": [
    "## Step 3: Add x- and y-axis labels to your plot. Rotate the x-axis plot ticks 45 degrees."
   ]
  },
  {
   "cell_type": "code",
   "execution_count": 44,
   "metadata": {},
   "outputs": [
    {
     "data": {},
     "metadata": {},
     "output_type": "display_data"
    },
    {
     "data": {
      "application/vnd.holoviews_exec.v0+json": "",
      "text/html": [
       "<div id='4292'>\n",
       "  <div class=\"bk-root\" id=\"77803ac5-bd2d-4b4a-8373-16e6e4abd4b5\" data-root-id=\"4292\"></div>\n",
       "</div>\n",
       "<script type=\"application/javascript\">(function(root) {\n",
       "  function embed_document(root) {\n",
       "    var docs_json = {\"0e6f0b1c-539e-4acb-8a04-8eb2c4bcb504\":{\"defs\":[{\"extends\":null,\"module\":null,\"name\":\"ReactiveHTML1\",\"overrides\":[],\"properties\":[]},{\"extends\":null,\"module\":null,\"name\":\"FlexBox1\",\"overrides\":[],\"properties\":[{\"default\":\"flex-start\",\"kind\":null,\"name\":\"align_content\"},{\"default\":\"flex-start\",\"kind\":null,\"name\":\"align_items\"},{\"default\":\"row\",\"kind\":null,\"name\":\"flex_direction\"},{\"default\":\"wrap\",\"kind\":null,\"name\":\"flex_wrap\"},{\"default\":\"flex-start\",\"kind\":null,\"name\":\"justify_content\"}]},{\"extends\":null,\"module\":null,\"name\":\"GridStack1\",\"overrides\":[],\"properties\":[{\"default\":\"warn\",\"kind\":null,\"name\":\"mode\"},{\"default\":null,\"kind\":null,\"name\":\"ncols\"},{\"default\":null,\"kind\":null,\"name\":\"nrows\"},{\"default\":true,\"kind\":null,\"name\":\"allow_resize\"},{\"default\":true,\"kind\":null,\"name\":\"allow_drag\"},{\"default\":[],\"kind\":null,\"name\":\"state\"}]},{\"extends\":null,\"module\":null,\"name\":\"click1\",\"overrides\":[],\"properties\":[{\"default\":\"\",\"kind\":null,\"name\":\"terminal_output\"},{\"default\":\"\",\"kind\":null,\"name\":\"debug_name\"},{\"default\":0,\"kind\":null,\"name\":\"clears\"}]},{\"extends\":null,\"module\":null,\"name\":\"NotificationAreaBase1\",\"overrides\":[],\"properties\":[{\"default\":\"bottom-right\",\"kind\":null,\"name\":\"position\"},{\"default\":0,\"kind\":null,\"name\":\"_clear\"}]},{\"extends\":null,\"module\":null,\"name\":\"NotificationArea1\",\"overrides\":[],\"properties\":[{\"default\":[],\"kind\":null,\"name\":\"notifications\"},{\"default\":\"bottom-right\",\"kind\":null,\"name\":\"position\"},{\"default\":0,\"kind\":null,\"name\":\"_clear\"},{\"default\":[{\"background\":\"#ffc107\",\"icon\":{\"className\":\"fas fa-exclamation-triangle\",\"color\":\"white\",\"tagName\":\"i\"},\"type\":\"warning\"},{\"background\":\"#007bff\",\"icon\":{\"className\":\"fas fa-info-circle\",\"color\":\"white\",\"tagName\":\"i\"},\"type\":\"info\"}],\"kind\":null,\"name\":\"types\"}]},{\"extends\":null,\"module\":null,\"name\":\"Notification\",\"overrides\":[],\"properties\":[{\"default\":null,\"kind\":null,\"name\":\"background\"},{\"default\":3000,\"kind\":null,\"name\":\"duration\"},{\"default\":null,\"kind\":null,\"name\":\"icon\"},{\"default\":\"\",\"kind\":null,\"name\":\"message\"},{\"default\":null,\"kind\":null,\"name\":\"notification_type\"},{\"default\":false,\"kind\":null,\"name\":\"_destroyed\"}]},{\"extends\":null,\"module\":null,\"name\":\"TemplateActions1\",\"overrides\":[],\"properties\":[{\"default\":0,\"kind\":null,\"name\":\"open_modal\"},{\"default\":0,\"kind\":null,\"name\":\"close_modal\"}]},{\"extends\":null,\"module\":null,\"name\":\"MaterialTemplateActions1\",\"overrides\":[],\"properties\":[{\"default\":0,\"kind\":null,\"name\":\"open_modal\"},{\"default\":0,\"kind\":null,\"name\":\"close_modal\"}]}],\"roots\":{\"references\":[{\"attributes\":{\"axis\":{\"id\":\"4309\"},\"coordinates\":null,\"dimension\":1,\"grid_line_color\":null,\"group\":null,\"ticker\":null},\"id\":\"4312\",\"type\":\"Grid\"},{\"attributes\":{\"end\":2926021300.0,\"reset_end\":2926021300.0,\"reset_start\":1889805700.0,\"start\":1889805700.0,\"tags\":[[[\"Revenue\",\"Revenue\",null]]]},\"id\":\"4295\",\"type\":\"Range1d\"},{\"attributes\":{},\"id\":\"4304\",\"type\":\"LinearScale\"},{\"attributes\":{\"bottom_units\":\"screen\",\"coordinates\":null,\"fill_alpha\":0.5,\"fill_color\":\"lightgrey\",\"group\":null,\"left_units\":\"screen\",\"level\":\"overlay\",\"line_alpha\":1.0,\"line_color\":\"black\",\"line_dash\":[4,4],\"line_width\":2,\"right_units\":\"screen\",\"syncable\":false,\"top_units\":\"screen\"},\"id\":\"4318\",\"type\":\"BoxAnnotation\"},{\"attributes\":{\"axis_label\":\"USA and Canada\",\"coordinates\":null,\"formatter\":{\"id\":\"4336\"},\"group\":null,\"major_label_orientation\":0.7853981633974483,\"major_label_policy\":{\"id\":\"4337\"},\"ticker\":{\"id\":\"4307\"}},\"id\":\"4306\",\"type\":\"CategoricalAxis\"},{\"attributes\":{},\"id\":\"4307\",\"type\":\"CategoricalTicker\"},{\"attributes\":{\"line_color\":\"#30a2da\",\"line_width\":2,\"x\":{\"field\":\"Years\"},\"y\":{\"field\":\"Revenue\"}},\"id\":\"4334\",\"type\":\"Line\"},{\"attributes\":{\"data\":{\"Revenue\":[1976157000,2049546000,2094850000,2160979000,2256851000,2501199000,2621250000,2671908000,2702776000,2839670000],\"Years\":[\"Q1 - 2018\",\"Q2 - 2018\",\"Q3 - 2018\",\"Q4 - 2018\",\"Q1 - 2019\",\"Q2 - 2019\",\"Q3 - 2019\",\"Q4 - 2019\",\"Q1 - 2020\",\"Q2 - 2020\"]},\"selected\":{\"id\":\"4327\"},\"selection_policy\":{\"id\":\"4348\"}},\"id\":\"4326\",\"type\":\"ColumnDataSource\"},{\"attributes\":{\"margin\":[5,5,5,5],\"name\":\"HSpacer03687\",\"sizing_mode\":\"stretch_width\"},\"id\":\"4293\",\"type\":\"Spacer\"},{\"attributes\":{\"axis\":{\"id\":\"4306\"},\"coordinates\":null,\"grid_line_color\":null,\"group\":null,\"ticker\":null},\"id\":\"4308\",\"type\":\"Grid\"},{\"attributes\":{},\"id\":\"4348\",\"type\":\"UnionRenderers\"},{\"attributes\":{\"factors\":[\"Q1 - 2018\",\"Q2 - 2018\",\"Q3 - 2018\",\"Q4 - 2018\",\"Q1 - 2019\",\"Q2 - 2019\",\"Q3 - 2019\",\"Q4 - 2019\",\"Q1 - 2020\",\"Q2 - 2020\"],\"tags\":[[[\"Years\",\"Years\",null]]]},\"id\":\"4294\",\"type\":\"FactorRange\"},{\"attributes\":{},\"id\":\"4310\",\"type\":\"BasicTicker\"},{\"attributes\":{\"axis_label\":\"Revenue\",\"coordinates\":null,\"formatter\":{\"id\":\"4339\"},\"group\":null,\"major_label_policy\":{\"id\":\"4340\"},\"ticker\":{\"id\":\"4310\"}},\"id\":\"4309\",\"type\":\"LinearAxis\"},{\"attributes\":{},\"id\":\"4327\",\"type\":\"Selection\"},{\"attributes\":{\"line_color\":\"#30a2da\",\"line_width\":2,\"x\":{\"field\":\"Years\"},\"y\":{\"field\":\"Revenue\"}},\"id\":\"4329\",\"type\":\"Line\"},{\"attributes\":{\"line_alpha\":0.2,\"line_color\":\"#30a2da\",\"line_width\":2,\"x\":{\"field\":\"Years\"},\"y\":{\"field\":\"Revenue\"}},\"id\":\"4331\",\"type\":\"Line\"},{\"attributes\":{},\"id\":\"4339\",\"type\":\"BasicTickFormatter\"},{\"attributes\":{\"children\":[{\"id\":\"4293\"},{\"id\":\"4297\"},{\"id\":\"4351\"}],\"margin\":[0,0,0,0],\"name\":\"Row03683\",\"tags\":[\"embedded\"]},\"id\":\"4292\",\"type\":\"Row\"},{\"attributes\":{\"line_alpha\":0.1,\"line_color\":\"#30a2da\",\"line_width\":2,\"x\":{\"field\":\"Years\"},\"y\":{\"field\":\"Revenue\"}},\"id\":\"4330\",\"type\":\"Line\"},{\"attributes\":{\"callback\":null,\"renderers\":[{\"id\":\"4332\"}],\"tags\":[\"hv_created\"],\"tooltips\":[[\"Years\",\"@{Years}\"],[\"Revenue\",\"@{Revenue}\"]]},\"id\":\"4296\",\"type\":\"HoverTool\"},{\"attributes\":{\"source\":{\"id\":\"4326\"}},\"id\":\"4333\",\"type\":\"CDSView\"},{\"attributes\":{},\"id\":\"4313\",\"type\":\"SaveTool\"},{\"attributes\":{},\"id\":\"4336\",\"type\":\"CategoricalTickFormatter\"},{\"attributes\":{\"margin\":[5,5,5,5],\"name\":\"HSpacer03688\",\"sizing_mode\":\"stretch_width\"},\"id\":\"4351\",\"type\":\"Spacer\"},{\"attributes\":{},\"id\":\"4337\",\"type\":\"AllLabels\"},{\"attributes\":{\"below\":[{\"id\":\"4306\"}],\"center\":[{\"id\":\"4308\"},{\"id\":\"4312\"}],\"height\":300,\"left\":[{\"id\":\"4309\"}],\"margin\":[5,5,5,5],\"min_border_bottom\":10,\"min_border_left\":10,\"min_border_right\":10,\"min_border_top\":10,\"renderers\":[{\"id\":\"4332\"}],\"sizing_mode\":\"fixed\",\"title\":{\"id\":\"4298\"},\"toolbar\":{\"id\":\"4319\"},\"width\":700,\"x_range\":{\"id\":\"4294\"},\"x_scale\":{\"id\":\"4302\"},\"y_range\":{\"id\":\"4295\"},\"y_scale\":{\"id\":\"4304\"}},\"id\":\"4297\",\"subtype\":\"Figure\",\"type\":\"Plot\"},{\"attributes\":{},\"id\":\"4314\",\"type\":\"PanTool\"},{\"attributes\":{\"coordinates\":null,\"data_source\":{\"id\":\"4326\"},\"glyph\":{\"id\":\"4329\"},\"group\":null,\"hover_glyph\":null,\"muted_glyph\":{\"id\":\"4331\"},\"nonselection_glyph\":{\"id\":\"4330\"},\"selection_glyph\":{\"id\":\"4334\"},\"view\":{\"id\":\"4333\"}},\"id\":\"4332\",\"type\":\"GlyphRenderer\"},{\"attributes\":{},\"id\":\"4315\",\"type\":\"WheelZoomTool\"},{\"attributes\":{\"tools\":[{\"id\":\"4296\"},{\"id\":\"4313\"},{\"id\":\"4314\"},{\"id\":\"4315\"},{\"id\":\"4316\"},{\"id\":\"4317\"}]},\"id\":\"4319\",\"type\":\"Toolbar\"},{\"attributes\":{\"overlay\":{\"id\":\"4318\"}},\"id\":\"4316\",\"type\":\"BoxZoomTool\"},{\"attributes\":{},\"id\":\"4340\",\"type\":\"AllLabels\"},{\"attributes\":{},\"id\":\"4302\",\"type\":\"CategoricalScale\"},{\"attributes\":{\"coordinates\":null,\"group\":null,\"text\":\"Revenue\",\"text_color\":\"black\",\"text_font_size\":\"12pt\"},\"id\":\"4298\",\"type\":\"Title\"},{\"attributes\":{},\"id\":\"4317\",\"type\":\"ResetTool\"}],\"root_ids\":[\"4292\"]},\"title\":\"Bokeh Application\",\"version\":\"2.4.3\"}};\n",
       "    var render_items = [{\"docid\":\"0e6f0b1c-539e-4acb-8a04-8eb2c4bcb504\",\"root_ids\":[\"4292\"],\"roots\":{\"4292\":\"77803ac5-bd2d-4b4a-8373-16e6e4abd4b5\"}}];\n",
       "    root.Bokeh.embed.embed_items_notebook(docs_json, render_items);\n",
       "  }\n",
       "  if (root.Bokeh !== undefined && root.Bokeh.Panel !== undefined) {\n",
       "    embed_document(root);\n",
       "  } else {\n",
       "    var attempts = 0;\n",
       "    var timer = setInterval(function(root) {\n",
       "      if (root.Bokeh !== undefined && root.Bokeh.Panel !== undefined) {\n",
       "        clearInterval(timer);\n",
       "        embed_document(root);\n",
       "      } else if (document.readyState == \"complete\") {\n",
       "        attempts++;\n",
       "        if (attempts > 200) {\n",
       "          clearInterval(timer);\n",
       "          console.log(\"Bokeh: ERROR: Unable to run BokehJS code because BokehJS library is missing\");\n",
       "        }\n",
       "      }\n",
       "    }, 25, root)\n",
       "  }\n",
       "})(window);</script>"
      ],
      "text/plain": [
       ":Curve   [Years]   (Revenue)"
      ]
     },
     "execution_count": 44,
     "metadata": {
      "application/vnd.holoviews_exec.v0+json": {
       "id": "4292"
      }
     },
     "output_type": "execute_result"
    }
   ],
   "source": [
    "# Rotate the x-axis ticks by 45 degrees and add x- and y-axis labels to the plot\n",
    "us_canada_revenue['Revenue'].hvplot(xlabel= \"USA and Canada\", ylabel= \"Revenue\", rot=45)"
   ]
  },
  {
   "cell_type": "markdown",
   "metadata": {},
   "source": [
    "## Step 4:  Add a title to the US and Canada revenue plot\n"
   ]
  },
  {
   "cell_type": "code",
   "execution_count": 45,
   "metadata": {},
   "outputs": [
    {
     "data": {},
     "metadata": {},
     "output_type": "display_data"
    },
    {
     "data": {
      "application/vnd.holoviews_exec.v0+json": "",
      "text/html": [
       "<div id='4403'>\n",
       "  <div class=\"bk-root\" id=\"fcc20501-9351-4ab3-b6b1-bc302c5e51a1\" data-root-id=\"4403\"></div>\n",
       "</div>\n",
       "<script type=\"application/javascript\">(function(root) {\n",
       "  function embed_document(root) {\n",
       "    var docs_json = {\"7ec6b2d3-3657-43c3-9128-a8f58f562270\":{\"defs\":[{\"extends\":null,\"module\":null,\"name\":\"ReactiveHTML1\",\"overrides\":[],\"properties\":[]},{\"extends\":null,\"module\":null,\"name\":\"FlexBox1\",\"overrides\":[],\"properties\":[{\"default\":\"flex-start\",\"kind\":null,\"name\":\"align_content\"},{\"default\":\"flex-start\",\"kind\":null,\"name\":\"align_items\"},{\"default\":\"row\",\"kind\":null,\"name\":\"flex_direction\"},{\"default\":\"wrap\",\"kind\":null,\"name\":\"flex_wrap\"},{\"default\":\"flex-start\",\"kind\":null,\"name\":\"justify_content\"}]},{\"extends\":null,\"module\":null,\"name\":\"GridStack1\",\"overrides\":[],\"properties\":[{\"default\":\"warn\",\"kind\":null,\"name\":\"mode\"},{\"default\":null,\"kind\":null,\"name\":\"ncols\"},{\"default\":null,\"kind\":null,\"name\":\"nrows\"},{\"default\":true,\"kind\":null,\"name\":\"allow_resize\"},{\"default\":true,\"kind\":null,\"name\":\"allow_drag\"},{\"default\":[],\"kind\":null,\"name\":\"state\"}]},{\"extends\":null,\"module\":null,\"name\":\"click1\",\"overrides\":[],\"properties\":[{\"default\":\"\",\"kind\":null,\"name\":\"terminal_output\"},{\"default\":\"\",\"kind\":null,\"name\":\"debug_name\"},{\"default\":0,\"kind\":null,\"name\":\"clears\"}]},{\"extends\":null,\"module\":null,\"name\":\"NotificationAreaBase1\",\"overrides\":[],\"properties\":[{\"default\":\"bottom-right\",\"kind\":null,\"name\":\"position\"},{\"default\":0,\"kind\":null,\"name\":\"_clear\"}]},{\"extends\":null,\"module\":null,\"name\":\"NotificationArea1\",\"overrides\":[],\"properties\":[{\"default\":[],\"kind\":null,\"name\":\"notifications\"},{\"default\":\"bottom-right\",\"kind\":null,\"name\":\"position\"},{\"default\":0,\"kind\":null,\"name\":\"_clear\"},{\"default\":[{\"background\":\"#ffc107\",\"icon\":{\"className\":\"fas fa-exclamation-triangle\",\"color\":\"white\",\"tagName\":\"i\"},\"type\":\"warning\"},{\"background\":\"#007bff\",\"icon\":{\"className\":\"fas fa-info-circle\",\"color\":\"white\",\"tagName\":\"i\"},\"type\":\"info\"}],\"kind\":null,\"name\":\"types\"}]},{\"extends\":null,\"module\":null,\"name\":\"Notification\",\"overrides\":[],\"properties\":[{\"default\":null,\"kind\":null,\"name\":\"background\"},{\"default\":3000,\"kind\":null,\"name\":\"duration\"},{\"default\":null,\"kind\":null,\"name\":\"icon\"},{\"default\":\"\",\"kind\":null,\"name\":\"message\"},{\"default\":null,\"kind\":null,\"name\":\"notification_type\"},{\"default\":false,\"kind\":null,\"name\":\"_destroyed\"}]},{\"extends\":null,\"module\":null,\"name\":\"TemplateActions1\",\"overrides\":[],\"properties\":[{\"default\":0,\"kind\":null,\"name\":\"open_modal\"},{\"default\":0,\"kind\":null,\"name\":\"close_modal\"}]},{\"extends\":null,\"module\":null,\"name\":\"MaterialTemplateActions1\",\"overrides\":[],\"properties\":[{\"default\":0,\"kind\":null,\"name\":\"open_modal\"},{\"default\":0,\"kind\":null,\"name\":\"close_modal\"}]}],\"roots\":{\"references\":[{\"attributes\":{\"source\":{\"id\":\"4437\"}},\"id\":\"4444\",\"type\":\"CDSView\"},{\"attributes\":{},\"id\":\"4448\",\"type\":\"AllLabels\"},{\"attributes\":{},\"id\":\"4424\",\"type\":\"SaveTool\"},{\"attributes\":{\"margin\":[5,5,5,5],\"name\":\"HSpacer03794\",\"sizing_mode\":\"stretch_width\"},\"id\":\"4462\",\"type\":\"Spacer\"},{\"attributes\":{\"line_alpha\":0.1,\"line_color\":\"#30a2da\",\"line_width\":2,\"x\":{\"field\":\"Years\"},\"y\":{\"field\":\"Revenue\"}},\"id\":\"4441\",\"type\":\"Line\"},{\"attributes\":{\"below\":[{\"id\":\"4417\"}],\"center\":[{\"id\":\"4419\"},{\"id\":\"4423\"}],\"height\":300,\"left\":[{\"id\":\"4420\"}],\"margin\":[5,5,5,5],\"min_border_bottom\":10,\"min_border_left\":10,\"min_border_right\":10,\"min_border_top\":10,\"renderers\":[{\"id\":\"4443\"}],\"sizing_mode\":\"fixed\",\"title\":{\"id\":\"4409\"},\"toolbar\":{\"id\":\"4430\"},\"width\":700,\"x_range\":{\"id\":\"4405\"},\"x_scale\":{\"id\":\"4413\"},\"y_range\":{\"id\":\"4406\"},\"y_scale\":{\"id\":\"4415\"}},\"id\":\"4408\",\"subtype\":\"Figure\",\"type\":\"Plot\"},{\"attributes\":{},\"id\":\"4425\",\"type\":\"PanTool\"},{\"attributes\":{\"margin\":[5,5,5,5],\"name\":\"HSpacer03793\",\"sizing_mode\":\"stretch_width\"},\"id\":\"4404\",\"type\":\"Spacer\"},{\"attributes\":{\"coordinates\":null,\"data_source\":{\"id\":\"4437\"},\"glyph\":{\"id\":\"4440\"},\"group\":null,\"hover_glyph\":null,\"muted_glyph\":{\"id\":\"4442\"},\"nonselection_glyph\":{\"id\":\"4441\"},\"selection_glyph\":{\"id\":\"4445\"},\"view\":{\"id\":\"4444\"}},\"id\":\"4443\",\"type\":\"GlyphRenderer\"},{\"attributes\":{},\"id\":\"4426\",\"type\":\"WheelZoomTool\"},{\"attributes\":{},\"id\":\"4450\",\"type\":\"BasicTickFormatter\"},{\"attributes\":{\"tools\":[{\"id\":\"4407\"},{\"id\":\"4424\"},{\"id\":\"4425\"},{\"id\":\"4426\"},{\"id\":\"4427\"},{\"id\":\"4428\"}]},\"id\":\"4430\",\"type\":\"Toolbar\"},{\"attributes\":{},\"id\":\"4459\",\"type\":\"UnionRenderers\"},{\"attributes\":{\"overlay\":{\"id\":\"4429\"}},\"id\":\"4427\",\"type\":\"BoxZoomTool\"},{\"attributes\":{},\"id\":\"4451\",\"type\":\"AllLabels\"},{\"attributes\":{},\"id\":\"4413\",\"type\":\"CategoricalScale\"},{\"attributes\":{\"coordinates\":null,\"group\":null,\"text\":\"USA and CA Revenue\",\"text_color\":\"black\",\"text_font_size\":\"12pt\"},\"id\":\"4409\",\"type\":\"Title\"},{\"attributes\":{},\"id\":\"4428\",\"type\":\"ResetTool\"},{\"attributes\":{\"data\":{\"Revenue\":[1976157000,2049546000,2094850000,2160979000,2256851000,2501199000,2621250000,2671908000,2702776000,2839670000],\"Years\":[\"Q1 - 2018\",\"Q2 - 2018\",\"Q3 - 2018\",\"Q4 - 2018\",\"Q1 - 2019\",\"Q2 - 2019\",\"Q3 - 2019\",\"Q4 - 2019\",\"Q1 - 2020\",\"Q2 - 2020\"]},\"selected\":{\"id\":\"4438\"},\"selection_policy\":{\"id\":\"4459\"}},\"id\":\"4437\",\"type\":\"ColumnDataSource\"},{\"attributes\":{\"bottom_units\":\"screen\",\"coordinates\":null,\"fill_alpha\":0.5,\"fill_color\":\"lightgrey\",\"group\":null,\"left_units\":\"screen\",\"level\":\"overlay\",\"line_alpha\":1.0,\"line_color\":\"black\",\"line_dash\":[4,4],\"line_width\":2,\"right_units\":\"screen\",\"syncable\":false,\"top_units\":\"screen\"},\"id\":\"4429\",\"type\":\"BoxAnnotation\"},{\"attributes\":{\"axis\":{\"id\":\"4420\"},\"coordinates\":null,\"dimension\":1,\"grid_line_color\":null,\"group\":null,\"ticker\":null},\"id\":\"4423\",\"type\":\"Grid\"},{\"attributes\":{},\"id\":\"4415\",\"type\":\"LinearScale\"},{\"attributes\":{\"line_color\":\"#30a2da\",\"line_width\":2,\"x\":{\"field\":\"Years\"},\"y\":{\"field\":\"Revenue\"}},\"id\":\"4445\",\"type\":\"Line\"},{\"attributes\":{\"axis_label\":\"USA and Canada\",\"coordinates\":null,\"formatter\":{\"id\":\"4447\"},\"group\":null,\"major_label_orientation\":0.7853981633974483,\"major_label_policy\":{\"id\":\"4448\"},\"ticker\":{\"id\":\"4418\"}},\"id\":\"4417\",\"type\":\"CategoricalAxis\"},{\"attributes\":{},\"id\":\"4418\",\"type\":\"CategoricalTicker\"},{\"attributes\":{\"children\":[{\"id\":\"4404\"},{\"id\":\"4408\"},{\"id\":\"4462\"}],\"margin\":[0,0,0,0],\"name\":\"Row03789\",\"tags\":[\"embedded\"]},\"id\":\"4403\",\"type\":\"Row\"},{\"attributes\":{\"axis\":{\"id\":\"4417\"},\"coordinates\":null,\"grid_line_color\":null,\"group\":null,\"ticker\":null},\"id\":\"4419\",\"type\":\"Grid\"},{\"attributes\":{},\"id\":\"4438\",\"type\":\"Selection\"},{\"attributes\":{\"factors\":[\"Q1 - 2018\",\"Q2 - 2018\",\"Q3 - 2018\",\"Q4 - 2018\",\"Q1 - 2019\",\"Q2 - 2019\",\"Q3 - 2019\",\"Q4 - 2019\",\"Q1 - 2020\",\"Q2 - 2020\"],\"tags\":[[[\"Years\",\"Years\",null]]]},\"id\":\"4405\",\"type\":\"FactorRange\"},{\"attributes\":{\"callback\":null,\"renderers\":[{\"id\":\"4443\"}],\"tags\":[\"hv_created\"],\"tooltips\":[[\"Years\",\"@{Years}\"],[\"Revenue\",\"@{Revenue}\"]]},\"id\":\"4407\",\"type\":\"HoverTool\"},{\"attributes\":{},\"id\":\"4421\",\"type\":\"BasicTicker\"},{\"attributes\":{\"axis_label\":\"Revenue\",\"coordinates\":null,\"formatter\":{\"id\":\"4450\"},\"group\":null,\"major_label_policy\":{\"id\":\"4451\"},\"ticker\":{\"id\":\"4421\"}},\"id\":\"4420\",\"type\":\"LinearAxis\"},{\"attributes\":{\"line_color\":\"#30a2da\",\"line_width\":2,\"x\":{\"field\":\"Years\"},\"y\":{\"field\":\"Revenue\"}},\"id\":\"4440\",\"type\":\"Line\"},{\"attributes\":{},\"id\":\"4447\",\"type\":\"CategoricalTickFormatter\"},{\"attributes\":{\"line_alpha\":0.2,\"line_color\":\"#30a2da\",\"line_width\":2,\"x\":{\"field\":\"Years\"},\"y\":{\"field\":\"Revenue\"}},\"id\":\"4442\",\"type\":\"Line\"},{\"attributes\":{\"end\":2926021300.0,\"reset_end\":2926021300.0,\"reset_start\":1889805700.0,\"start\":1889805700.0,\"tags\":[[[\"Revenue\",\"Revenue\",null]]]},\"id\":\"4406\",\"type\":\"Range1d\"}],\"root_ids\":[\"4403\"]},\"title\":\"Bokeh Application\",\"version\":\"2.4.3\"}};\n",
       "    var render_items = [{\"docid\":\"7ec6b2d3-3657-43c3-9128-a8f58f562270\",\"root_ids\":[\"4403\"],\"roots\":{\"4403\":\"fcc20501-9351-4ab3-b6b1-bc302c5e51a1\"}}];\n",
       "    root.Bokeh.embed.embed_items_notebook(docs_json, render_items);\n",
       "  }\n",
       "  if (root.Bokeh !== undefined && root.Bokeh.Panel !== undefined) {\n",
       "    embed_document(root);\n",
       "  } else {\n",
       "    var attempts = 0;\n",
       "    var timer = setInterval(function(root) {\n",
       "      if (root.Bokeh !== undefined && root.Bokeh.Panel !== undefined) {\n",
       "        clearInterval(timer);\n",
       "        embed_document(root);\n",
       "      } else if (document.readyState == \"complete\") {\n",
       "        attempts++;\n",
       "        if (attempts > 200) {\n",
       "          clearInterval(timer);\n",
       "          console.log(\"Bokeh: ERROR: Unable to run BokehJS code because BokehJS library is missing\");\n",
       "        }\n",
       "      }\n",
       "    }, 25, root)\n",
       "  }\n",
       "})(window);</script>"
      ],
      "text/plain": [
       ":Curve   [Years]   (Revenue)"
      ]
     },
     "execution_count": 45,
     "metadata": {
      "application/vnd.holoviews_exec.v0+json": {
       "id": "4403"
      }
     },
     "output_type": "execute_result"
    }
   ],
   "source": [
    "# Add a title to your US and Canada revenue plot using the label parameter\n",
    "us_canada_revenue['Revenue'].hvplot(xlabel= \"USA and Canada\", ylabel= \"Revenue\", label=\"USA and CA Revenue\", rot=45)"
   ]
  },
  {
   "cell_type": "markdown",
   "metadata": {},
   "source": [
    "## Step 5: Use the yformatter option to format the y-axis values."
   ]
  },
  {
   "cell_type": "code",
   "execution_count": 46,
   "metadata": {},
   "outputs": [
    {
     "data": {},
     "metadata": {},
     "output_type": "display_data"
    },
    {
     "data": {
      "application/vnd.holoviews_exec.v0+json": "",
      "text/html": [
       "<div id='4514'>\n",
       "  <div class=\"bk-root\" id=\"897b8a08-f702-4096-93b9-d1fb715272b1\" data-root-id=\"4514\"></div>\n",
       "</div>\n",
       "<script type=\"application/javascript\">(function(root) {\n",
       "  function embed_document(root) {\n",
       "    var docs_json = {\"d8fbaa1c-eece-43dc-a28a-a8db5592d490\":{\"defs\":[{\"extends\":null,\"module\":null,\"name\":\"ReactiveHTML1\",\"overrides\":[],\"properties\":[]},{\"extends\":null,\"module\":null,\"name\":\"FlexBox1\",\"overrides\":[],\"properties\":[{\"default\":\"flex-start\",\"kind\":null,\"name\":\"align_content\"},{\"default\":\"flex-start\",\"kind\":null,\"name\":\"align_items\"},{\"default\":\"row\",\"kind\":null,\"name\":\"flex_direction\"},{\"default\":\"wrap\",\"kind\":null,\"name\":\"flex_wrap\"},{\"default\":\"flex-start\",\"kind\":null,\"name\":\"justify_content\"}]},{\"extends\":null,\"module\":null,\"name\":\"GridStack1\",\"overrides\":[],\"properties\":[{\"default\":\"warn\",\"kind\":null,\"name\":\"mode\"},{\"default\":null,\"kind\":null,\"name\":\"ncols\"},{\"default\":null,\"kind\":null,\"name\":\"nrows\"},{\"default\":true,\"kind\":null,\"name\":\"allow_resize\"},{\"default\":true,\"kind\":null,\"name\":\"allow_drag\"},{\"default\":[],\"kind\":null,\"name\":\"state\"}]},{\"extends\":null,\"module\":null,\"name\":\"click1\",\"overrides\":[],\"properties\":[{\"default\":\"\",\"kind\":null,\"name\":\"terminal_output\"},{\"default\":\"\",\"kind\":null,\"name\":\"debug_name\"},{\"default\":0,\"kind\":null,\"name\":\"clears\"}]},{\"extends\":null,\"module\":null,\"name\":\"NotificationAreaBase1\",\"overrides\":[],\"properties\":[{\"default\":\"bottom-right\",\"kind\":null,\"name\":\"position\"},{\"default\":0,\"kind\":null,\"name\":\"_clear\"}]},{\"extends\":null,\"module\":null,\"name\":\"NotificationArea1\",\"overrides\":[],\"properties\":[{\"default\":[],\"kind\":null,\"name\":\"notifications\"},{\"default\":\"bottom-right\",\"kind\":null,\"name\":\"position\"},{\"default\":0,\"kind\":null,\"name\":\"_clear\"},{\"default\":[{\"background\":\"#ffc107\",\"icon\":{\"className\":\"fas fa-exclamation-triangle\",\"color\":\"white\",\"tagName\":\"i\"},\"type\":\"warning\"},{\"background\":\"#007bff\",\"icon\":{\"className\":\"fas fa-info-circle\",\"color\":\"white\",\"tagName\":\"i\"},\"type\":\"info\"}],\"kind\":null,\"name\":\"types\"}]},{\"extends\":null,\"module\":null,\"name\":\"Notification\",\"overrides\":[],\"properties\":[{\"default\":null,\"kind\":null,\"name\":\"background\"},{\"default\":3000,\"kind\":null,\"name\":\"duration\"},{\"default\":null,\"kind\":null,\"name\":\"icon\"},{\"default\":\"\",\"kind\":null,\"name\":\"message\"},{\"default\":null,\"kind\":null,\"name\":\"notification_type\"},{\"default\":false,\"kind\":null,\"name\":\"_destroyed\"}]},{\"extends\":null,\"module\":null,\"name\":\"TemplateActions1\",\"overrides\":[],\"properties\":[{\"default\":0,\"kind\":null,\"name\":\"open_modal\"},{\"default\":0,\"kind\":null,\"name\":\"close_modal\"}]},{\"extends\":null,\"module\":null,\"name\":\"MaterialTemplateActions1\",\"overrides\":[],\"properties\":[{\"default\":0,\"kind\":null,\"name\":\"open_modal\"},{\"default\":0,\"kind\":null,\"name\":\"close_modal\"}]}],\"roots\":{\"references\":[{\"attributes\":{\"axis\":{\"id\":\"4528\"},\"coordinates\":null,\"grid_line_color\":null,\"group\":null,\"ticker\":null},\"id\":\"4530\",\"type\":\"Grid\"},{\"attributes\":{},\"id\":\"4532\",\"type\":\"BasicTicker\"},{\"attributes\":{\"axis_label\":\"Revenue\",\"coordinates\":null,\"formatter\":{\"id\":\"4557\"},\"group\":null,\"major_label_policy\":{\"id\":\"4563\"},\"ticker\":{\"id\":\"4532\"}},\"id\":\"4531\",\"type\":\"LinearAxis\"},{\"attributes\":{\"children\":[{\"id\":\"4515\"},{\"id\":\"4519\"},{\"id\":\"4575\"}],\"margin\":[0,0,0,0],\"name\":\"Row03915\",\"tags\":[\"embedded\"]},\"id\":\"4514\",\"type\":\"Row\"},{\"attributes\":{},\"id\":\"4572\",\"type\":\"UnionRenderers\"},{\"attributes\":{\"coordinates\":null,\"data_source\":{\"id\":\"4548\"},\"glyph\":{\"id\":\"4551\"},\"group\":null,\"hover_glyph\":null,\"muted_glyph\":{\"id\":\"4553\"},\"nonselection_glyph\":{\"id\":\"4552\"},\"selection_glyph\":{\"id\":\"4556\"},\"view\":{\"id\":\"4555\"}},\"id\":\"4554\",\"type\":\"GlyphRenderer\"},{\"attributes\":{\"fill_color\":{\"value\":\"#30a2da\"},\"hatch_color\":{\"value\":\"#30a2da\"},\"top\":{\"field\":\"Revenue\"},\"width\":{\"value\":0.8},\"x\":{\"field\":\"Years\"}},\"id\":\"4551\",\"type\":\"VBar\"},{\"attributes\":{\"format\":\"%.0f\"},\"id\":\"4557\",\"type\":\"PrintfTickFormatter\"},{\"attributes\":{\"source\":{\"id\":\"4548\"}},\"id\":\"4555\",\"type\":\"CDSView\"},{\"attributes\":{\"callback\":null,\"renderers\":[{\"id\":\"4554\"}],\"tags\":[\"hv_created\"],\"tooltips\":[[\"Years\",\"@{Years}\"],[\"Revenue\",\"@{Revenue}\"]]},\"id\":\"4518\",\"type\":\"HoverTool\"},{\"attributes\":{\"bottom\":{\"value\":0},\"fill_alpha\":{\"value\":1.0},\"fill_color\":{\"value\":\"#30a2da\"},\"hatch_alpha\":{\"value\":1.0},\"hatch_color\":{\"value\":\"#30a2da\"},\"hatch_scale\":{\"value\":12.0},\"hatch_weight\":{\"value\":1.0},\"line_alpha\":{\"value\":1.0},\"line_cap\":{\"value\":\"butt\"},\"line_color\":{\"value\":\"black\"},\"line_dash\":{\"value\":[]},\"line_dash_offset\":{\"value\":0},\"line_join\":{\"value\":\"bevel\"},\"line_width\":{\"value\":1},\"top\":{\"field\":\"Revenue\"},\"width\":{\"value\":0.8},\"x\":{\"field\":\"Years\"}},\"id\":\"4556\",\"type\":\"VBar\"},{\"attributes\":{\"fill_alpha\":{\"value\":0.1},\"fill_color\":{\"value\":\"#30a2da\"},\"hatch_alpha\":{\"value\":0.1},\"hatch_color\":{\"value\":\"#30a2da\"},\"line_alpha\":{\"value\":0.1},\"top\":{\"field\":\"Revenue\"},\"width\":{\"value\":0.8},\"x\":{\"field\":\"Years\"}},\"id\":\"4552\",\"type\":\"VBar\"},{\"attributes\":{},\"id\":\"4535\",\"type\":\"SaveTool\"},{\"attributes\":{\"margin\":[5,5,5,5],\"name\":\"HSpacer03920\",\"sizing_mode\":\"stretch_width\"},\"id\":\"4575\",\"type\":\"Spacer\"},{\"attributes\":{\"data\":{\"Revenue\":[1976157000,2049546000,2094850000,2160979000,2256851000,2501199000,2621250000,2671908000,2702776000,2839670000],\"Years\":[\"Q1 - 2018\",\"Q2 - 2018\",\"Q3 - 2018\",\"Q4 - 2018\",\"Q1 - 2019\",\"Q2 - 2019\",\"Q3 - 2019\",\"Q4 - 2019\",\"Q1 - 2020\",\"Q2 - 2020\"]},\"selected\":{\"id\":\"4549\"},\"selection_policy\":{\"id\":\"4572\"}},\"id\":\"4548\",\"type\":\"ColumnDataSource\"},{\"attributes\":{},\"id\":\"4536\",\"type\":\"PanTool\"},{\"attributes\":{},\"id\":\"4559\",\"type\":\"CategoricalTickFormatter\"},{\"attributes\":{},\"id\":\"4549\",\"type\":\"Selection\"},{\"attributes\":{\"fill_alpha\":{\"value\":0.2},\"fill_color\":{\"value\":\"#30a2da\"},\"hatch_alpha\":{\"value\":0.2},\"hatch_color\":{\"value\":\"#30a2da\"},\"line_alpha\":{\"value\":0.2},\"top\":{\"field\":\"Revenue\"},\"width\":{\"value\":0.8},\"x\":{\"field\":\"Years\"}},\"id\":\"4553\",\"type\":\"VBar\"},{\"attributes\":{},\"id\":\"4537\",\"type\":\"WheelZoomTool\"},{\"attributes\":{\"below\":[{\"id\":\"4528\"}],\"center\":[{\"id\":\"4530\"},{\"id\":\"4534\"}],\"height\":300,\"left\":[{\"id\":\"4531\"}],\"margin\":[5,5,5,5],\"min_border_bottom\":10,\"min_border_left\":10,\"min_border_right\":10,\"min_border_top\":10,\"renderers\":[{\"id\":\"4554\"}],\"sizing_mode\":\"fixed\",\"title\":{\"id\":\"4520\"},\"toolbar\":{\"id\":\"4541\"},\"width\":700,\"x_range\":{\"id\":\"4516\"},\"x_scale\":{\"id\":\"4524\"},\"y_range\":{\"id\":\"4517\"},\"y_scale\":{\"id\":\"4526\"}},\"id\":\"4519\",\"subtype\":\"Figure\",\"type\":\"Plot\"},{\"attributes\":{\"end\":2926021300.0,\"reset_end\":2926021300.0,\"reset_start\":0.0,\"tags\":[[[\"Revenue\",\"Revenue\",null]]]},\"id\":\"4517\",\"type\":\"Range1d\"},{\"attributes\":{\"tools\":[{\"id\":\"4518\"},{\"id\":\"4535\"},{\"id\":\"4536\"},{\"id\":\"4537\"},{\"id\":\"4538\"},{\"id\":\"4539\"}]},\"id\":\"4541\",\"type\":\"Toolbar\"},{\"attributes\":{\"overlay\":{\"id\":\"4540\"}},\"id\":\"4538\",\"type\":\"BoxZoomTool\"},{\"attributes\":{\"margin\":[5,5,5,5],\"name\":\"HSpacer03919\",\"sizing_mode\":\"stretch_width\"},\"id\":\"4515\",\"type\":\"Spacer\"},{\"attributes\":{},\"id\":\"4524\",\"type\":\"CategoricalScale\"},{\"attributes\":{},\"id\":\"4560\",\"type\":\"AllLabels\"},{\"attributes\":{\"factors\":[\"Q1 - 2018\",\"Q2 - 2018\",\"Q3 - 2018\",\"Q4 - 2018\",\"Q1 - 2019\",\"Q2 - 2019\",\"Q3 - 2019\",\"Q4 - 2019\",\"Q1 - 2020\",\"Q2 - 2020\"],\"tags\":[[[\"Years\",\"Years\",null]]]},\"id\":\"4516\",\"type\":\"FactorRange\"},{\"attributes\":{\"coordinates\":null,\"group\":null,\"text\":\"USA and CA Revenue\",\"text_color\":\"black\",\"text_font_size\":\"12pt\"},\"id\":\"4520\",\"type\":\"Title\"},{\"attributes\":{},\"id\":\"4539\",\"type\":\"ResetTool\"},{\"attributes\":{},\"id\":\"4563\",\"type\":\"AllLabels\"},{\"attributes\":{\"bottom_units\":\"screen\",\"coordinates\":null,\"fill_alpha\":0.5,\"fill_color\":\"lightgrey\",\"group\":null,\"left_units\":\"screen\",\"level\":\"overlay\",\"line_alpha\":1.0,\"line_color\":\"black\",\"line_dash\":[4,4],\"line_width\":2,\"right_units\":\"screen\",\"syncable\":false,\"top_units\":\"screen\"},\"id\":\"4540\",\"type\":\"BoxAnnotation\"},{\"attributes\":{\"axis\":{\"id\":\"4531\"},\"coordinates\":null,\"dimension\":1,\"grid_line_color\":null,\"group\":null,\"ticker\":null},\"id\":\"4534\",\"type\":\"Grid\"},{\"attributes\":{},\"id\":\"4526\",\"type\":\"LinearScale\"},{\"attributes\":{\"axis_label\":\"USA and Canada\",\"coordinates\":null,\"formatter\":{\"id\":\"4559\"},\"group\":null,\"major_label_orientation\":0.7853981633974483,\"major_label_policy\":{\"id\":\"4560\"},\"ticker\":{\"id\":\"4529\"}},\"id\":\"4528\",\"type\":\"CategoricalAxis\"},{\"attributes\":{},\"id\":\"4529\",\"type\":\"CategoricalTicker\"}],\"root_ids\":[\"4514\"]},\"title\":\"Bokeh Application\",\"version\":\"2.4.3\"}};\n",
       "    var render_items = [{\"docid\":\"d8fbaa1c-eece-43dc-a28a-a8db5592d490\",\"root_ids\":[\"4514\"],\"roots\":{\"4514\":\"897b8a08-f702-4096-93b9-d1fb715272b1\"}}];\n",
       "    root.Bokeh.embed.embed_items_notebook(docs_json, render_items);\n",
       "  }\n",
       "  if (root.Bokeh !== undefined && root.Bokeh.Panel !== undefined) {\n",
       "    embed_document(root);\n",
       "  } else {\n",
       "    var attempts = 0;\n",
       "    var timer = setInterval(function(root) {\n",
       "      if (root.Bokeh !== undefined && root.Bokeh.Panel !== undefined) {\n",
       "        clearInterval(timer);\n",
       "        embed_document(root);\n",
       "      } else if (document.readyState == \"complete\") {\n",
       "        attempts++;\n",
       "        if (attempts > 200) {\n",
       "          clearInterval(timer);\n",
       "          console.log(\"Bokeh: ERROR: Unable to run BokehJS code because BokehJS library is missing\");\n",
       "        }\n",
       "      }\n",
       "    }, 25, root)\n",
       "  }\n",
       "})(window);</script>"
      ],
      "text/plain": [
       ":Bars   [Years]   (Revenue)"
      ]
     },
     "execution_count": 46,
     "metadata": {
      "application/vnd.holoviews_exec.v0+json": {
       "id": "4514"
      }
     },
     "output_type": "execute_result"
    }
   ],
   "source": [
    "# Use the yformatter to adjust the y-axis values\n",
    "us_canada_revenue['Revenue'].hvplot.bar(xlabel= \"USA and Canada\", ylabel= \"Revenue\", label=\"USA and CA Revenue\", rot=45).opts(yformatter='%.0f')"
   ]
  },
  {
   "cell_type": "markdown",
   "metadata": {},
   "source": [
    "## Step 6: Add a line_color of blue and hover_line_color of yellow to the plot."
   ]
  },
  {
   "cell_type": "code",
   "execution_count": 47,
   "metadata": {},
   "outputs": [
    {
     "data": {},
     "metadata": {},
     "output_type": "display_data"
    },
    {
     "data": {
      "application/vnd.holoviews_exec.v0+json": "",
      "text/html": [
       "<div id='4622'>\n",
       "  <div class=\"bk-root\" id=\"221ba929-f47a-4548-95d3-f6fb9ae82e5e\" data-root-id=\"4622\"></div>\n",
       "</div>\n",
       "<script type=\"application/javascript\">(function(root) {\n",
       "  function embed_document(root) {\n",
       "    var docs_json = {\"eab7f06b-6f33-4868-a4eb-89cfefb62600\":{\"defs\":[{\"extends\":null,\"module\":null,\"name\":\"ReactiveHTML1\",\"overrides\":[],\"properties\":[]},{\"extends\":null,\"module\":null,\"name\":\"FlexBox1\",\"overrides\":[],\"properties\":[{\"default\":\"flex-start\",\"kind\":null,\"name\":\"align_content\"},{\"default\":\"flex-start\",\"kind\":null,\"name\":\"align_items\"},{\"default\":\"row\",\"kind\":null,\"name\":\"flex_direction\"},{\"default\":\"wrap\",\"kind\":null,\"name\":\"flex_wrap\"},{\"default\":\"flex-start\",\"kind\":null,\"name\":\"justify_content\"}]},{\"extends\":null,\"module\":null,\"name\":\"GridStack1\",\"overrides\":[],\"properties\":[{\"default\":\"warn\",\"kind\":null,\"name\":\"mode\"},{\"default\":null,\"kind\":null,\"name\":\"ncols\"},{\"default\":null,\"kind\":null,\"name\":\"nrows\"},{\"default\":true,\"kind\":null,\"name\":\"allow_resize\"},{\"default\":true,\"kind\":null,\"name\":\"allow_drag\"},{\"default\":[],\"kind\":null,\"name\":\"state\"}]},{\"extends\":null,\"module\":null,\"name\":\"click1\",\"overrides\":[],\"properties\":[{\"default\":\"\",\"kind\":null,\"name\":\"terminal_output\"},{\"default\":\"\",\"kind\":null,\"name\":\"debug_name\"},{\"default\":0,\"kind\":null,\"name\":\"clears\"}]},{\"extends\":null,\"module\":null,\"name\":\"NotificationAreaBase1\",\"overrides\":[],\"properties\":[{\"default\":\"bottom-right\",\"kind\":null,\"name\":\"position\"},{\"default\":0,\"kind\":null,\"name\":\"_clear\"}]},{\"extends\":null,\"module\":null,\"name\":\"NotificationArea1\",\"overrides\":[],\"properties\":[{\"default\":[],\"kind\":null,\"name\":\"notifications\"},{\"default\":\"bottom-right\",\"kind\":null,\"name\":\"position\"},{\"default\":0,\"kind\":null,\"name\":\"_clear\"},{\"default\":[{\"background\":\"#ffc107\",\"icon\":{\"className\":\"fas fa-exclamation-triangle\",\"color\":\"white\",\"tagName\":\"i\"},\"type\":\"warning\"},{\"background\":\"#007bff\",\"icon\":{\"className\":\"fas fa-info-circle\",\"color\":\"white\",\"tagName\":\"i\"},\"type\":\"info\"}],\"kind\":null,\"name\":\"types\"}]},{\"extends\":null,\"module\":null,\"name\":\"Notification\",\"overrides\":[],\"properties\":[{\"default\":null,\"kind\":null,\"name\":\"background\"},{\"default\":3000,\"kind\":null,\"name\":\"duration\"},{\"default\":null,\"kind\":null,\"name\":\"icon\"},{\"default\":\"\",\"kind\":null,\"name\":\"message\"},{\"default\":null,\"kind\":null,\"name\":\"notification_type\"},{\"default\":false,\"kind\":null,\"name\":\"_destroyed\"}]},{\"extends\":null,\"module\":null,\"name\":\"TemplateActions1\",\"overrides\":[],\"properties\":[{\"default\":0,\"kind\":null,\"name\":\"open_modal\"},{\"default\":0,\"kind\":null,\"name\":\"close_modal\"}]},{\"extends\":null,\"module\":null,\"name\":\"MaterialTemplateActions1\",\"overrides\":[],\"properties\":[{\"default\":0,\"kind\":null,\"name\":\"open_modal\"},{\"default\":0,\"kind\":null,\"name\":\"close_modal\"}]}],\"roots\":{\"references\":[{\"attributes\":{\"line_color\":\"yellow\",\"line_width\":2,\"x\":{\"field\":\"Years\"},\"y\":{\"field\":\"Revenue\"}},\"id\":\"4661\",\"type\":\"Line\"},{\"attributes\":{},\"id\":\"4644\",\"type\":\"PanTool\"},{\"attributes\":{},\"id\":\"4669\",\"type\":\"AllLabels\"},{\"attributes\":{\"margin\":[5,5,5,5],\"name\":\"HSpacer04044\",\"sizing_mode\":\"stretch_width\"},\"id\":\"4684\",\"type\":\"Spacer\"},{\"attributes\":{\"below\":[{\"id\":\"4636\"}],\"center\":[{\"id\":\"4638\"},{\"id\":\"4642\"}],\"height\":300,\"left\":[{\"id\":\"4639\"}],\"margin\":[5,5,5,5],\"min_border_bottom\":10,\"min_border_left\":10,\"min_border_right\":10,\"min_border_top\":10,\"renderers\":[{\"id\":\"4663\"}],\"sizing_mode\":\"fixed\",\"title\":{\"id\":\"4628\"},\"toolbar\":{\"id\":\"4649\"},\"width\":700,\"x_range\":{\"id\":\"4624\"},\"x_scale\":{\"id\":\"4632\"},\"y_range\":{\"id\":\"4625\"},\"y_scale\":{\"id\":\"4634\"}},\"id\":\"4627\",\"subtype\":\"Figure\",\"type\":\"Plot\"},{\"attributes\":{\"children\":[{\"id\":\"4623\"},{\"id\":\"4627\"},{\"id\":\"4684\"}],\"margin\":[0,0,0,0],\"name\":\"Row04039\",\"tags\":[\"embedded\"]},\"id\":\"4622\",\"type\":\"Row\"},{\"attributes\":{\"end\":2926021300.0,\"reset_end\":2926021300.0,\"reset_start\":1889805700.0,\"start\":1889805700.0,\"tags\":[[[\"Revenue\",\"Revenue\",null]]]},\"id\":\"4625\",\"type\":\"Range1d\"},{\"attributes\":{},\"id\":\"4645\",\"type\":\"WheelZoomTool\"},{\"attributes\":{\"line_alpha\":0.2,\"line_color\":\"blue\",\"line_width\":2,\"x\":{\"field\":\"Years\"},\"y\":{\"field\":\"Revenue\"}},\"id\":\"4662\",\"type\":\"Line\"},{\"attributes\":{\"overlay\":{\"id\":\"4648\"}},\"id\":\"4646\",\"type\":\"BoxZoomTool\"},{\"attributes\":{},\"id\":\"4632\",\"type\":\"CategoricalScale\"},{\"attributes\":{\"coordinates\":null,\"data_source\":{\"id\":\"4656\"},\"glyph\":{\"id\":\"4659\"},\"group\":null,\"hover_glyph\":{\"id\":\"4661\"},\"muted_glyph\":{\"id\":\"4662\"},\"nonselection_glyph\":{\"id\":\"4660\"},\"selection_glyph\":{\"id\":\"4665\"},\"view\":{\"id\":\"4664\"}},\"id\":\"4663\",\"type\":\"GlyphRenderer\"},{\"attributes\":{\"coordinates\":null,\"group\":null,\"text\":\"USA and CA Revenue\",\"text_color\":\"black\",\"text_font_size\":\"12pt\"},\"id\":\"4628\",\"type\":\"Title\"},{\"attributes\":{},\"id\":\"4647\",\"type\":\"ResetTool\"},{\"attributes\":{\"bottom_units\":\"screen\",\"coordinates\":null,\"fill_alpha\":0.5,\"fill_color\":\"lightgrey\",\"group\":null,\"left_units\":\"screen\",\"level\":\"overlay\",\"line_alpha\":1.0,\"line_color\":\"black\",\"line_dash\":[4,4],\"line_width\":2,\"right_units\":\"screen\",\"syncable\":false,\"top_units\":\"screen\"},\"id\":\"4648\",\"type\":\"BoxAnnotation\"},{\"attributes\":{\"axis\":{\"id\":\"4639\"},\"coordinates\":null,\"dimension\":1,\"grid_line_color\":null,\"group\":null,\"ticker\":null},\"id\":\"4642\",\"type\":\"Grid\"},{\"attributes\":{\"format\":\"%.0f\"},\"id\":\"4666\",\"type\":\"PrintfTickFormatter\"},{\"attributes\":{},\"id\":\"4634\",\"type\":\"LinearScale\"},{\"attributes\":{},\"id\":\"4657\",\"type\":\"Selection\"},{\"attributes\":{\"axis_label\":\"USA and Canada\",\"coordinates\":null,\"formatter\":{\"id\":\"4668\"},\"group\":null,\"major_label_orientation\":0.7853981633974483,\"major_label_policy\":{\"id\":\"4669\"},\"ticker\":{\"id\":\"4637\"}},\"id\":\"4636\",\"type\":\"CategoricalAxis\"},{\"attributes\":{\"line_color\":\"blue\",\"line_width\":2,\"x\":{\"field\":\"Years\"},\"y\":{\"field\":\"Revenue\"}},\"id\":\"4665\",\"type\":\"Line\"},{\"attributes\":{},\"id\":\"4637\",\"type\":\"CategoricalTicker\"},{\"attributes\":{\"axis\":{\"id\":\"4636\"},\"coordinates\":null,\"grid_line_color\":null,\"group\":null,\"ticker\":null},\"id\":\"4638\",\"type\":\"Grid\"},{\"attributes\":{},\"id\":\"4668\",\"type\":\"CategoricalTickFormatter\"},{\"attributes\":{\"data\":{\"Revenue\":[1976157000,2049546000,2094850000,2160979000,2256851000,2501199000,2621250000,2671908000,2702776000,2839670000],\"Years\":[\"Q1 - 2018\",\"Q2 - 2018\",\"Q3 - 2018\",\"Q4 - 2018\",\"Q1 - 2019\",\"Q2 - 2019\",\"Q3 - 2019\",\"Q4 - 2019\",\"Q1 - 2020\",\"Q2 - 2020\"]},\"selected\":{\"id\":\"4657\"},\"selection_policy\":{\"id\":\"4681\"}},\"id\":\"4656\",\"type\":\"ColumnDataSource\"},{\"attributes\":{},\"id\":\"4640\",\"type\":\"BasicTicker\"},{\"attributes\":{\"axis_label\":\"Revenue\",\"coordinates\":null,\"formatter\":{\"id\":\"4666\"},\"group\":null,\"major_label_policy\":{\"id\":\"4672\"},\"ticker\":{\"id\":\"4640\"}},\"id\":\"4639\",\"type\":\"LinearAxis\"},{\"attributes\":{\"margin\":[5,5,5,5],\"name\":\"HSpacer04043\",\"sizing_mode\":\"stretch_width\"},\"id\":\"4623\",\"type\":\"Spacer\"},{\"attributes\":{\"factors\":[\"Q1 - 2018\",\"Q2 - 2018\",\"Q3 - 2018\",\"Q4 - 2018\",\"Q1 - 2019\",\"Q2 - 2019\",\"Q3 - 2019\",\"Q4 - 2019\",\"Q1 - 2020\",\"Q2 - 2020\"],\"tags\":[[[\"Years\",\"Years\",null]]]},\"id\":\"4624\",\"type\":\"FactorRange\"},{\"attributes\":{\"source\":{\"id\":\"4656\"}},\"id\":\"4664\",\"type\":\"CDSView\"},{\"attributes\":{\"line_color\":\"blue\",\"line_width\":2,\"x\":{\"field\":\"Years\"},\"y\":{\"field\":\"Revenue\"}},\"id\":\"4659\",\"type\":\"Line\"},{\"attributes\":{\"line_alpha\":0.1,\"line_color\":\"blue\",\"line_width\":2,\"x\":{\"field\":\"Years\"},\"y\":{\"field\":\"Revenue\"}},\"id\":\"4660\",\"type\":\"Line\"},{\"attributes\":{},\"id\":\"4672\",\"type\":\"AllLabels\"},{\"attributes\":{},\"id\":\"4681\",\"type\":\"UnionRenderers\"},{\"attributes\":{\"callback\":null,\"renderers\":[{\"id\":\"4663\"}],\"tags\":[\"hv_created\"],\"tooltips\":[[\"Years\",\"@{Years}\"],[\"Revenue\",\"@{Revenue}\"]]},\"id\":\"4626\",\"type\":\"HoverTool\"},{\"attributes\":{\"tools\":[{\"id\":\"4626\"},{\"id\":\"4643\"},{\"id\":\"4644\"},{\"id\":\"4645\"},{\"id\":\"4646\"},{\"id\":\"4647\"}]},\"id\":\"4649\",\"type\":\"Toolbar\"},{\"attributes\":{},\"id\":\"4643\",\"type\":\"SaveTool\"}],\"root_ids\":[\"4622\"]},\"title\":\"Bokeh Application\",\"version\":\"2.4.3\"}};\n",
       "    var render_items = [{\"docid\":\"eab7f06b-6f33-4868-a4eb-89cfefb62600\",\"root_ids\":[\"4622\"],\"roots\":{\"4622\":\"221ba929-f47a-4548-95d3-f6fb9ae82e5e\"}}];\n",
       "    root.Bokeh.embed.embed_items_notebook(docs_json, render_items);\n",
       "  }\n",
       "  if (root.Bokeh !== undefined && root.Bokeh.Panel !== undefined) {\n",
       "    embed_document(root);\n",
       "  } else {\n",
       "    var attempts = 0;\n",
       "    var timer = setInterval(function(root) {\n",
       "      if (root.Bokeh !== undefined && root.Bokeh.Panel !== undefined) {\n",
       "        clearInterval(timer);\n",
       "        embed_document(root);\n",
       "      } else if (document.readyState == \"complete\") {\n",
       "        attempts++;\n",
       "        if (attempts > 200) {\n",
       "          clearInterval(timer);\n",
       "          console.log(\"Bokeh: ERROR: Unable to run BokehJS code because BokehJS library is missing\");\n",
       "        }\n",
       "      }\n",
       "    }, 25, root)\n",
       "  }\n",
       "})(window);</script>"
      ],
      "text/plain": [
       ":Curve   [Years]   (Revenue)"
      ]
     },
     "execution_count": 47,
     "metadata": {
      "application/vnd.holoviews_exec.v0+json": {
       "id": "4622"
      }
     },
     "output_type": "execute_result"
    }
   ],
   "source": [
    "# Add a line_color of blue and a hover_line_color of yellow\n",
    "us_canada_revenue['Revenue'].hvplot(xlabel= \"USA and Canada\", ylabel= \"Revenue\", label=\"USA and CA Revenue\", rot=45).opts(yformatter='%.0f', color=\"blue\", hover_color=\"yellow\")"
   ]
  },
  {
   "cell_type": "markdown",
   "metadata": {},
   "source": [
    "## Step 7. Save the plot you just created to a variable so that it can eventually be utilized in an overlay plot."
   ]
  },
  {
   "cell_type": "code",
   "execution_count": 57,
   "metadata": {},
   "outputs": [
    {
     "data": {},
     "metadata": {},
     "output_type": "display_data"
    },
    {
     "data": {
      "application/vnd.holoviews_exec.v0+json": "",
      "text/html": [
       "<div id='5554'>\n",
       "  <div class=\"bk-root\" id=\"90aabb98-62fb-4ff2-b906-f404cc7610d2\" data-root-id=\"5554\"></div>\n",
       "</div>\n",
       "<script type=\"application/javascript\">(function(root) {\n",
       "  function embed_document(root) {\n",
       "    var docs_json = {\"6bfdc016-abfa-4384-b22b-d3c4d2fc7f21\":{\"defs\":[{\"extends\":null,\"module\":null,\"name\":\"ReactiveHTML1\",\"overrides\":[],\"properties\":[]},{\"extends\":null,\"module\":null,\"name\":\"FlexBox1\",\"overrides\":[],\"properties\":[{\"default\":\"flex-start\",\"kind\":null,\"name\":\"align_content\"},{\"default\":\"flex-start\",\"kind\":null,\"name\":\"align_items\"},{\"default\":\"row\",\"kind\":null,\"name\":\"flex_direction\"},{\"default\":\"wrap\",\"kind\":null,\"name\":\"flex_wrap\"},{\"default\":\"flex-start\",\"kind\":null,\"name\":\"justify_content\"}]},{\"extends\":null,\"module\":null,\"name\":\"GridStack1\",\"overrides\":[],\"properties\":[{\"default\":\"warn\",\"kind\":null,\"name\":\"mode\"},{\"default\":null,\"kind\":null,\"name\":\"ncols\"},{\"default\":null,\"kind\":null,\"name\":\"nrows\"},{\"default\":true,\"kind\":null,\"name\":\"allow_resize\"},{\"default\":true,\"kind\":null,\"name\":\"allow_drag\"},{\"default\":[],\"kind\":null,\"name\":\"state\"}]},{\"extends\":null,\"module\":null,\"name\":\"click1\",\"overrides\":[],\"properties\":[{\"default\":\"\",\"kind\":null,\"name\":\"terminal_output\"},{\"default\":\"\",\"kind\":null,\"name\":\"debug_name\"},{\"default\":0,\"kind\":null,\"name\":\"clears\"}]},{\"extends\":null,\"module\":null,\"name\":\"NotificationAreaBase1\",\"overrides\":[],\"properties\":[{\"default\":\"bottom-right\",\"kind\":null,\"name\":\"position\"},{\"default\":0,\"kind\":null,\"name\":\"_clear\"}]},{\"extends\":null,\"module\":null,\"name\":\"NotificationArea1\",\"overrides\":[],\"properties\":[{\"default\":[],\"kind\":null,\"name\":\"notifications\"},{\"default\":\"bottom-right\",\"kind\":null,\"name\":\"position\"},{\"default\":0,\"kind\":null,\"name\":\"_clear\"},{\"default\":[{\"background\":\"#ffc107\",\"icon\":{\"className\":\"fas fa-exclamation-triangle\",\"color\":\"white\",\"tagName\":\"i\"},\"type\":\"warning\"},{\"background\":\"#007bff\",\"icon\":{\"className\":\"fas fa-info-circle\",\"color\":\"white\",\"tagName\":\"i\"},\"type\":\"info\"}],\"kind\":null,\"name\":\"types\"}]},{\"extends\":null,\"module\":null,\"name\":\"Notification\",\"overrides\":[],\"properties\":[{\"default\":null,\"kind\":null,\"name\":\"background\"},{\"default\":3000,\"kind\":null,\"name\":\"duration\"},{\"default\":null,\"kind\":null,\"name\":\"icon\"},{\"default\":\"\",\"kind\":null,\"name\":\"message\"},{\"default\":null,\"kind\":null,\"name\":\"notification_type\"},{\"default\":false,\"kind\":null,\"name\":\"_destroyed\"}]},{\"extends\":null,\"module\":null,\"name\":\"TemplateActions1\",\"overrides\":[],\"properties\":[{\"default\":0,\"kind\":null,\"name\":\"open_modal\"},{\"default\":0,\"kind\":null,\"name\":\"close_modal\"}]},{\"extends\":null,\"module\":null,\"name\":\"MaterialTemplateActions1\",\"overrides\":[],\"properties\":[{\"default\":0,\"kind\":null,\"name\":\"open_modal\"},{\"default\":0,\"kind\":null,\"name\":\"close_modal\"}]}],\"roots\":{\"references\":[{\"attributes\":{},\"id\":\"5575\",\"type\":\"SaveTool\"},{\"attributes\":{},\"id\":\"5613\",\"type\":\"UnionRenderers\"},{\"attributes\":{\"fill_color\":{\"value\":\"yellow\"},\"hatch_color\":{\"value\":\"yellow\"},\"line_color\":{\"value\":\"yellow\"},\"top\":{\"field\":\"Revenue\"},\"width\":{\"value\":0.8},\"x\":{\"field\":\"Years\"}},\"id\":\"5593\",\"type\":\"VBar\"},{\"attributes\":{},\"id\":\"5576\",\"type\":\"PanTool\"},{\"attributes\":{\"bottom\":{\"value\":0},\"fill_alpha\":{\"value\":1.0},\"fill_color\":{\"value\":\"blue\"},\"hatch_alpha\":{\"value\":1.0},\"hatch_color\":{\"value\":\"blue\"},\"hatch_scale\":{\"value\":12.0},\"hatch_weight\":{\"value\":1.0},\"line_alpha\":{\"value\":1.0},\"line_cap\":{\"value\":\"butt\"},\"line_color\":{\"value\":\"black\"},\"line_dash\":{\"value\":[]},\"line_dash_offset\":{\"value\":0},\"line_join\":{\"value\":\"bevel\"},\"line_width\":{\"value\":1},\"top\":{\"field\":\"Revenue\"},\"width\":{\"value\":0.8},\"x\":{\"field\":\"Years\"}},\"id\":\"5597\",\"type\":\"VBar\"},{\"attributes\":{\"margin\":[5,5,5,5],\"name\":\"HSpacer04848\",\"sizing_mode\":\"stretch_width\"},\"id\":\"5555\",\"type\":\"Spacer\"},{\"attributes\":{},\"id\":\"5577\",\"type\":\"WheelZoomTool\"},{\"attributes\":{\"below\":[{\"id\":\"5568\"}],\"center\":[{\"id\":\"5570\"},{\"id\":\"5574\"}],\"height\":300,\"left\":[{\"id\":\"5571\"}],\"margin\":[5,5,5,5],\"min_border_bottom\":10,\"min_border_left\":10,\"min_border_right\":10,\"min_border_top\":10,\"renderers\":[{\"id\":\"5595\"}],\"sizing_mode\":\"fixed\",\"title\":{\"id\":\"5560\"},\"toolbar\":{\"id\":\"5581\"},\"width\":700,\"x_range\":{\"id\":\"5556\"},\"x_scale\":{\"id\":\"5564\"},\"y_range\":{\"id\":\"5557\"},\"y_scale\":{\"id\":\"5566\"}},\"id\":\"5559\",\"subtype\":\"Figure\",\"type\":\"Plot\"},{\"attributes\":{\"tools\":[{\"id\":\"5558\"},{\"id\":\"5575\"},{\"id\":\"5576\"},{\"id\":\"5577\"},{\"id\":\"5578\"},{\"id\":\"5579\"}]},\"id\":\"5581\",\"type\":\"Toolbar\"},{\"attributes\":{\"overlay\":{\"id\":\"5580\"}},\"id\":\"5578\",\"type\":\"BoxZoomTool\"},{\"attributes\":{},\"id\":\"5564\",\"type\":\"CategoricalScale\"},{\"attributes\":{},\"id\":\"5601\",\"type\":\"AllLabels\"},{\"attributes\":{\"factors\":[\"Q1 - 2018\",\"Q2 - 2018\",\"Q3 - 2018\",\"Q4 - 2018\",\"Q1 - 2019\",\"Q2 - 2019\",\"Q3 - 2019\",\"Q4 - 2019\",\"Q1 - 2020\",\"Q2 - 2020\"],\"tags\":[[[\"Years\",\"Years\",null]]]},\"id\":\"5556\",\"type\":\"FactorRange\"},{\"attributes\":{\"coordinates\":null,\"group\":null,\"text\":\"USA and CA Revenue\",\"text_color\":\"black\",\"text_font_size\":\"12pt\"},\"id\":\"5560\",\"type\":\"Title\"},{\"attributes\":{},\"id\":\"5579\",\"type\":\"ResetTool\"},{\"attributes\":{},\"id\":\"5604\",\"type\":\"AllLabels\"},{\"attributes\":{\"bottom_units\":\"screen\",\"coordinates\":null,\"fill_alpha\":0.5,\"fill_color\":\"lightgrey\",\"group\":null,\"left_units\":\"screen\",\"level\":\"overlay\",\"line_alpha\":1.0,\"line_color\":\"black\",\"line_dash\":[4,4],\"line_width\":2,\"right_units\":\"screen\",\"syncable\":false,\"top_units\":\"screen\"},\"id\":\"5580\",\"type\":\"BoxAnnotation\"},{\"attributes\":{\"axis\":{\"id\":\"5571\"},\"coordinates\":null,\"dimension\":1,\"grid_line_color\":null,\"group\":null,\"ticker\":null},\"id\":\"5574\",\"type\":\"Grid\"},{\"attributes\":{\"fill_alpha\":{\"value\":0.2},\"fill_color\":{\"value\":\"blue\"},\"hatch_alpha\":{\"value\":0.2},\"hatch_color\":{\"value\":\"blue\"},\"line_alpha\":{\"value\":0.2},\"top\":{\"field\":\"Revenue\"},\"width\":{\"value\":0.8},\"x\":{\"field\":\"Years\"}},\"id\":\"5594\",\"type\":\"VBar\"},{\"attributes\":{\"callback\":null,\"renderers\":[{\"id\":\"5595\"}],\"tags\":[\"hv_created\"],\"tooltips\":[[\"Years\",\"@{Years}\"],[\"Revenue\",\"@{Revenue}\"]]},\"id\":\"5558\",\"type\":\"HoverTool\"},{\"attributes\":{},\"id\":\"5566\",\"type\":\"LinearScale\"},{\"attributes\":{\"children\":[{\"id\":\"5555\"},{\"id\":\"5559\"},{\"id\":\"5616\"}],\"margin\":[0,0,0,0],\"name\":\"Row04844\",\"tags\":[\"embedded\"]},\"id\":\"5554\",\"type\":\"Row\"},{\"attributes\":{},\"id\":\"5589\",\"type\":\"Selection\"},{\"attributes\":{\"axis_label\":\"USA and Canada\",\"coordinates\":null,\"formatter\":{\"id\":\"5600\"},\"group\":null,\"major_label_orientation\":0.7853981633974483,\"major_label_policy\":{\"id\":\"5601\"},\"ticker\":{\"id\":\"5569\"}},\"id\":\"5568\",\"type\":\"CategoricalAxis\"},{\"attributes\":{},\"id\":\"5569\",\"type\":\"CategoricalTicker\"},{\"attributes\":{\"margin\":[5,5,5,5],\"name\":\"HSpacer04849\",\"sizing_mode\":\"stretch_width\"},\"id\":\"5616\",\"type\":\"Spacer\"},{\"attributes\":{\"axis\":{\"id\":\"5568\"},\"coordinates\":null,\"grid_line_color\":null,\"group\":null,\"ticker\":null},\"id\":\"5570\",\"type\":\"Grid\"},{\"attributes\":{},\"id\":\"5572\",\"type\":\"BasicTicker\"},{\"attributes\":{\"axis_label\":\"Revenue\",\"coordinates\":null,\"formatter\":{\"id\":\"5598\"},\"group\":null,\"major_label_policy\":{\"id\":\"5604\"},\"ticker\":{\"id\":\"5572\"}},\"id\":\"5571\",\"type\":\"LinearAxis\"},{\"attributes\":{\"end\":2926021300.0,\"reset_end\":2926021300.0,\"reset_start\":0.0,\"tags\":[[[\"Revenue\",\"Revenue\",null]]]},\"id\":\"5557\",\"type\":\"Range1d\"},{\"attributes\":{\"format\":\"%.0f\"},\"id\":\"5598\",\"type\":\"PrintfTickFormatter\"},{\"attributes\":{},\"id\":\"5600\",\"type\":\"CategoricalTickFormatter\"},{\"attributes\":{\"coordinates\":null,\"data_source\":{\"id\":\"5588\"},\"glyph\":{\"id\":\"5591\"},\"group\":null,\"hover_glyph\":{\"id\":\"5593\"},\"muted_glyph\":{\"id\":\"5594\"},\"nonselection_glyph\":{\"id\":\"5592\"},\"selection_glyph\":{\"id\":\"5597\"},\"view\":{\"id\":\"5596\"}},\"id\":\"5595\",\"type\":\"GlyphRenderer\"},{\"attributes\":{\"fill_alpha\":{\"value\":0.1},\"fill_color\":{\"value\":\"blue\"},\"hatch_alpha\":{\"value\":0.1},\"hatch_color\":{\"value\":\"blue\"},\"line_alpha\":{\"value\":0.1},\"top\":{\"field\":\"Revenue\"},\"width\":{\"value\":0.8},\"x\":{\"field\":\"Years\"}},\"id\":\"5592\",\"type\":\"VBar\"},{\"attributes\":{\"source\":{\"id\":\"5588\"}},\"id\":\"5596\",\"type\":\"CDSView\"},{\"attributes\":{\"fill_color\":{\"value\":\"blue\"},\"hatch_color\":{\"value\":\"blue\"},\"top\":{\"field\":\"Revenue\"},\"width\":{\"value\":0.8},\"x\":{\"field\":\"Years\"}},\"id\":\"5591\",\"type\":\"VBar\"},{\"attributes\":{\"data\":{\"Revenue\":[1976157000,2049546000,2094850000,2160979000,2256851000,2501199000,2621250000,2671908000,2702776000,2839670000],\"Years\":[\"Q1 - 2018\",\"Q2 - 2018\",\"Q3 - 2018\",\"Q4 - 2018\",\"Q1 - 2019\",\"Q2 - 2019\",\"Q3 - 2019\",\"Q4 - 2019\",\"Q1 - 2020\",\"Q2 - 2020\"]},\"selected\":{\"id\":\"5589\"},\"selection_policy\":{\"id\":\"5613\"}},\"id\":\"5588\",\"type\":\"ColumnDataSource\"}],\"root_ids\":[\"5554\"]},\"title\":\"Bokeh Application\",\"version\":\"2.4.3\"}};\n",
       "    var render_items = [{\"docid\":\"6bfdc016-abfa-4384-b22b-d3c4d2fc7f21\",\"root_ids\":[\"5554\"],\"roots\":{\"5554\":\"90aabb98-62fb-4ff2-b906-f404cc7610d2\"}}];\n",
       "    root.Bokeh.embed.embed_items_notebook(docs_json, render_items);\n",
       "  }\n",
       "  if (root.Bokeh !== undefined && root.Bokeh.Panel !== undefined) {\n",
       "    embed_document(root);\n",
       "  } else {\n",
       "    var attempts = 0;\n",
       "    var timer = setInterval(function(root) {\n",
       "      if (root.Bokeh !== undefined && root.Bokeh.Panel !== undefined) {\n",
       "        clearInterval(timer);\n",
       "        embed_document(root);\n",
       "      } else if (document.readyState == \"complete\") {\n",
       "        attempts++;\n",
       "        if (attempts > 200) {\n",
       "          clearInterval(timer);\n",
       "          console.log(\"Bokeh: ERROR: Unable to run BokehJS code because BokehJS library is missing\");\n",
       "        }\n",
       "      }\n",
       "    }, 25, root)\n",
       "  }\n",
       "})(window);</script>"
      ],
      "text/plain": [
       ":Bars   [Years]   (Revenue)"
      ]
     },
     "execution_count": 57,
     "metadata": {
      "application/vnd.holoviews_exec.v0+json": {
       "id": "5554"
      }
     },
     "output_type": "execute_result"
    }
   ],
   "source": [
    "# Save the US and Canada revenue plot to a variable\n",
    "us_canada_plot = us_canada_revenue['Revenue'].hvplot.bar(xlabel= \"USA and Canada\", ylabel= \"Revenue\", label=\"USA and CA Revenue\", rot=45).opts(yformatter='%.0f', color=\"blue\", hover_color=\"yellow\")\n",
    "\n",
    "# Show the plot\n",
    "us_canada_plot"
   ]
  },
  {
   "cell_type": "markdown",
   "metadata": {},
   "source": [
    "## Step 8: Create a line plot that visualizes the growth in revenue for the Europe, Middle East and Africa region. Style it with the same options utilized in the first plot. However, make the line_color equal to orange. Be sure to save this plot to a variable as well."
   ]
  },
  {
   "cell_type": "code",
   "execution_count": 49,
   "metadata": {},
   "outputs": [],
   "source": [
    "# Create a DataFrame that slices the subscriber data for the Europe, Middle East and Africa\n",
    "emea_revenue = regional_revenue_df.loc[regional_revenue_df['Area']=='Europe, Middle East and Africa']\n",
    "\n",
    "\n",
    "# Set the index of the DataFrame to Years\n",
    "emea_revenue = emea_revenue.set_index('Years')\n"
   ]
  },
  {
   "cell_type": "code",
   "execution_count": 50,
   "metadata": {},
   "outputs": [
    {
     "data": {},
     "metadata": {},
     "output_type": "display_data"
    },
    {
     "data": {
      "application/vnd.holoviews_exec.v0+json": "",
      "text/html": [
       "<div id='4840'>\n",
       "  <div class=\"bk-root\" id=\"487ec25c-9aae-4476-933a-9e326f958f8d\" data-root-id=\"4840\"></div>\n",
       "</div>\n",
       "<script type=\"application/javascript\">(function(root) {\n",
       "  function embed_document(root) {\n",
       "    var docs_json = {\"5de07a77-5476-45b1-a998-2847549fe5d1\":{\"defs\":[{\"extends\":null,\"module\":null,\"name\":\"ReactiveHTML1\",\"overrides\":[],\"properties\":[]},{\"extends\":null,\"module\":null,\"name\":\"FlexBox1\",\"overrides\":[],\"properties\":[{\"default\":\"flex-start\",\"kind\":null,\"name\":\"align_content\"},{\"default\":\"flex-start\",\"kind\":null,\"name\":\"align_items\"},{\"default\":\"row\",\"kind\":null,\"name\":\"flex_direction\"},{\"default\":\"wrap\",\"kind\":null,\"name\":\"flex_wrap\"},{\"default\":\"flex-start\",\"kind\":null,\"name\":\"justify_content\"}]},{\"extends\":null,\"module\":null,\"name\":\"GridStack1\",\"overrides\":[],\"properties\":[{\"default\":\"warn\",\"kind\":null,\"name\":\"mode\"},{\"default\":null,\"kind\":null,\"name\":\"ncols\"},{\"default\":null,\"kind\":null,\"name\":\"nrows\"},{\"default\":true,\"kind\":null,\"name\":\"allow_resize\"},{\"default\":true,\"kind\":null,\"name\":\"allow_drag\"},{\"default\":[],\"kind\":null,\"name\":\"state\"}]},{\"extends\":null,\"module\":null,\"name\":\"click1\",\"overrides\":[],\"properties\":[{\"default\":\"\",\"kind\":null,\"name\":\"terminal_output\"},{\"default\":\"\",\"kind\":null,\"name\":\"debug_name\"},{\"default\":0,\"kind\":null,\"name\":\"clears\"}]},{\"extends\":null,\"module\":null,\"name\":\"NotificationAreaBase1\",\"overrides\":[],\"properties\":[{\"default\":\"bottom-right\",\"kind\":null,\"name\":\"position\"},{\"default\":0,\"kind\":null,\"name\":\"_clear\"}]},{\"extends\":null,\"module\":null,\"name\":\"NotificationArea1\",\"overrides\":[],\"properties\":[{\"default\":[],\"kind\":null,\"name\":\"notifications\"},{\"default\":\"bottom-right\",\"kind\":null,\"name\":\"position\"},{\"default\":0,\"kind\":null,\"name\":\"_clear\"},{\"default\":[{\"background\":\"#ffc107\",\"icon\":{\"className\":\"fas fa-exclamation-triangle\",\"color\":\"white\",\"tagName\":\"i\"},\"type\":\"warning\"},{\"background\":\"#007bff\",\"icon\":{\"className\":\"fas fa-info-circle\",\"color\":\"white\",\"tagName\":\"i\"},\"type\":\"info\"}],\"kind\":null,\"name\":\"types\"}]},{\"extends\":null,\"module\":null,\"name\":\"Notification\",\"overrides\":[],\"properties\":[{\"default\":null,\"kind\":null,\"name\":\"background\"},{\"default\":3000,\"kind\":null,\"name\":\"duration\"},{\"default\":null,\"kind\":null,\"name\":\"icon\"},{\"default\":\"\",\"kind\":null,\"name\":\"message\"},{\"default\":null,\"kind\":null,\"name\":\"notification_type\"},{\"default\":false,\"kind\":null,\"name\":\"_destroyed\"}]},{\"extends\":null,\"module\":null,\"name\":\"TemplateActions1\",\"overrides\":[],\"properties\":[{\"default\":0,\"kind\":null,\"name\":\"open_modal\"},{\"default\":0,\"kind\":null,\"name\":\"close_modal\"}]},{\"extends\":null,\"module\":null,\"name\":\"MaterialTemplateActions1\",\"overrides\":[],\"properties\":[{\"default\":0,\"kind\":null,\"name\":\"open_modal\"},{\"default\":0,\"kind\":null,\"name\":\"close_modal\"}]}],\"roots\":{\"references\":[{\"attributes\":{},\"id\":\"4865\",\"type\":\"ResetTool\"},{\"attributes\":{\"margin\":[5,5,5,5],\"name\":\"HSpacer04295\",\"sizing_mode\":\"stretch_width\"},\"id\":\"4841\",\"type\":\"Spacer\"},{\"attributes\":{\"bottom_units\":\"screen\",\"coordinates\":null,\"fill_alpha\":0.5,\"fill_color\":\"lightgrey\",\"group\":null,\"left_units\":\"screen\",\"level\":\"overlay\",\"line_alpha\":1.0,\"line_color\":\"black\",\"line_dash\":[4,4],\"line_width\":2,\"right_units\":\"screen\",\"syncable\":false,\"top_units\":\"screen\"},\"id\":\"4866\",\"type\":\"BoxAnnotation\"},{\"attributes\":{\"axis\":{\"id\":\"4857\"},\"coordinates\":null,\"dimension\":1,\"grid_line_color\":null,\"group\":null,\"ticker\":null},\"id\":\"4860\",\"type\":\"Grid\"},{\"attributes\":{\"line_color\":\"orange\",\"line_width\":2,\"x\":{\"field\":\"Years\"},\"y\":{\"field\":\"Revenue\"}},\"id\":\"4882\",\"type\":\"Line\"},{\"attributes\":{\"axis_label\":\"EMEA\",\"coordinates\":null,\"formatter\":{\"id\":\"4885\"},\"group\":null,\"major_label_orientation\":0.7853981633974483,\"major_label_policy\":{\"id\":\"4886\"},\"ticker\":{\"id\":\"4855\"}},\"id\":\"4854\",\"type\":\"CategoricalAxis\"},{\"attributes\":{},\"id\":\"4855\",\"type\":\"CategoricalTicker\"},{\"attributes\":{},\"id\":\"4875\",\"type\":\"Selection\"},{\"attributes\":{\"axis\":{\"id\":\"4854\"},\"coordinates\":null,\"grid_line_color\":null,\"group\":null,\"ticker\":null},\"id\":\"4856\",\"type\":\"Grid\"},{\"attributes\":{\"factors\":[\"Q1 - 2018\",\"Q2 - 2018\",\"Q3 - 2018\",\"Q4 - 2018\",\"Q1 - 2019\",\"Q2 - 2019\",\"Q3 - 2019\",\"Q4 - 2019\",\"Q1 - 2020\",\"Q2 - 2020\"],\"tags\":[[[\"Years\",\"Years\",null]]]},\"id\":\"4842\",\"type\":\"FactorRange\"},{\"attributes\":{},\"id\":\"4858\",\"type\":\"BasicTicker\"},{\"attributes\":{\"children\":[{\"id\":\"4841\"},{\"id\":\"4845\"},{\"id\":\"4901\"}],\"margin\":[0,0,0,0],\"name\":\"Row04291\",\"tags\":[\"embedded\"]},\"id\":\"4840\",\"type\":\"Row\"},{\"attributes\":{\"end\":1993125800.0,\"reset_end\":1993125800.0,\"reset_start\":786060200.0,\"start\":786060200.0,\"tags\":[[[\"Revenue\",\"Revenue\",null]]]},\"id\":\"4843\",\"type\":\"Range1d\"},{\"attributes\":{\"axis_label\":\"Revenue\",\"coordinates\":null,\"formatter\":{\"id\":\"4883\"},\"group\":null,\"major_label_policy\":{\"id\":\"4889\"},\"ticker\":{\"id\":\"4858\"}},\"id\":\"4857\",\"type\":\"LinearAxis\"},{\"attributes\":{\"coordinates\":null,\"data_source\":{\"id\":\"4874\"},\"glyph\":{\"id\":\"4877\"},\"group\":null,\"hover_glyph\":null,\"muted_glyph\":{\"id\":\"4879\"},\"nonselection_glyph\":{\"id\":\"4878\"},\"selection_glyph\":{\"id\":\"4882\"},\"view\":{\"id\":\"4881\"}},\"id\":\"4880\",\"type\":\"GlyphRenderer\"},{\"attributes\":{\"line_alpha\":0.1,\"line_color\":\"orange\",\"line_width\":2,\"x\":{\"field\":\"Years\"},\"y\":{\"field\":\"Revenue\"}},\"id\":\"4878\",\"type\":\"Line\"},{\"attributes\":{\"callback\":null,\"renderers\":[{\"id\":\"4880\"}],\"tags\":[\"hv_created\"],\"tooltips\":[[\"Years\",\"@{Years}\"],[\"Revenue\",\"@{Revenue}\"]]},\"id\":\"4844\",\"type\":\"HoverTool\"},{\"attributes\":{\"data\":{\"Revenue\":[886649000,975497000,1004749000,1096812000,1233379000,1319087000,1428040000,1562561000,1723474000,1892537000],\"Years\":[\"Q1 - 2018\",\"Q2 - 2018\",\"Q3 - 2018\",\"Q4 - 2018\",\"Q1 - 2019\",\"Q2 - 2019\",\"Q3 - 2019\",\"Q4 - 2019\",\"Q1 - 2020\",\"Q2 - 2020\"]},\"selected\":{\"id\":\"4875\"},\"selection_policy\":{\"id\":\"4898\"}},\"id\":\"4874\",\"type\":\"ColumnDataSource\"},{\"attributes\":{\"source\":{\"id\":\"4874\"}},\"id\":\"4881\",\"type\":\"CDSView\"},{\"attributes\":{\"line_alpha\":0.2,\"line_color\":\"orange\",\"line_width\":2,\"x\":{\"field\":\"Years\"},\"y\":{\"field\":\"Revenue\"}},\"id\":\"4879\",\"type\":\"Line\"},{\"attributes\":{},\"id\":\"4885\",\"type\":\"CategoricalTickFormatter\"},{\"attributes\":{},\"id\":\"4861\",\"type\":\"SaveTool\"},{\"attributes\":{\"below\":[{\"id\":\"4854\"}],\"center\":[{\"id\":\"4856\"},{\"id\":\"4860\"}],\"height\":300,\"left\":[{\"id\":\"4857\"}],\"margin\":[5,5,5,5],\"min_border_bottom\":10,\"min_border_left\":10,\"min_border_right\":10,\"min_border_top\":10,\"renderers\":[{\"id\":\"4880\"}],\"sizing_mode\":\"fixed\",\"title\":{\"id\":\"4846\"},\"toolbar\":{\"id\":\"4867\"},\"width\":700,\"x_range\":{\"id\":\"4842\"},\"x_scale\":{\"id\":\"4850\"},\"y_range\":{\"id\":\"4843\"},\"y_scale\":{\"id\":\"4852\"}},\"id\":\"4845\",\"subtype\":\"Figure\",\"type\":\"Plot\"},{\"attributes\":{},\"id\":\"4862\",\"type\":\"PanTool\"},{\"attributes\":{},\"id\":\"4898\",\"type\":\"UnionRenderers\"},{\"attributes\":{\"margin\":[5,5,5,5],\"name\":\"HSpacer04296\",\"sizing_mode\":\"stretch_width\"},\"id\":\"4901\",\"type\":\"Spacer\"},{\"attributes\":{\"line_color\":\"orange\",\"line_width\":2,\"x\":{\"field\":\"Years\"},\"y\":{\"field\":\"Revenue\"}},\"id\":\"4877\",\"type\":\"Line\"},{\"attributes\":{\"format\":\"%.0f\"},\"id\":\"4883\",\"type\":\"PrintfTickFormatter\"},{\"attributes\":{},\"id\":\"4863\",\"type\":\"WheelZoomTool\"},{\"attributes\":{\"tools\":[{\"id\":\"4844\"},{\"id\":\"4861\"},{\"id\":\"4862\"},{\"id\":\"4863\"},{\"id\":\"4864\"},{\"id\":\"4865\"}]},\"id\":\"4867\",\"type\":\"Toolbar\"},{\"attributes\":{},\"id\":\"4889\",\"type\":\"AllLabels\"},{\"attributes\":{},\"id\":\"4886\",\"type\":\"AllLabels\"},{\"attributes\":{\"overlay\":{\"id\":\"4866\"}},\"id\":\"4864\",\"type\":\"BoxZoomTool\"},{\"attributes\":{},\"id\":\"4850\",\"type\":\"CategoricalScale\"},{\"attributes\":{\"coordinates\":null,\"group\":null,\"text\":\"EMEA Revenue\",\"text_color\":\"black\",\"text_font_size\":\"12pt\"},\"id\":\"4846\",\"type\":\"Title\"},{\"attributes\":{},\"id\":\"4852\",\"type\":\"LinearScale\"}],\"root_ids\":[\"4840\"]},\"title\":\"Bokeh Application\",\"version\":\"2.4.3\"}};\n",
       "    var render_items = [{\"docid\":\"5de07a77-5476-45b1-a998-2847549fe5d1\",\"root_ids\":[\"4840\"],\"roots\":{\"4840\":\"487ec25c-9aae-4476-933a-9e326f958f8d\"}}];\n",
       "    root.Bokeh.embed.embed_items_notebook(docs_json, render_items);\n",
       "  }\n",
       "  if (root.Bokeh !== undefined && root.Bokeh.Panel !== undefined) {\n",
       "    embed_document(root);\n",
       "  } else {\n",
       "    var attempts = 0;\n",
       "    var timer = setInterval(function(root) {\n",
       "      if (root.Bokeh !== undefined && root.Bokeh.Panel !== undefined) {\n",
       "        clearInterval(timer);\n",
       "        embed_document(root);\n",
       "      } else if (document.readyState == \"complete\") {\n",
       "        attempts++;\n",
       "        if (attempts > 200) {\n",
       "          clearInterval(timer);\n",
       "          console.log(\"Bokeh: ERROR: Unable to run BokehJS code because BokehJS library is missing\");\n",
       "        }\n",
       "      }\n",
       "    }, 25, root)\n",
       "  }\n",
       "})(window);</script>"
      ],
      "text/plain": [
       ":Curve   [Years]   (Revenue)"
      ]
     },
     "execution_count": 50,
     "metadata": {
      "application/vnd.holoviews_exec.v0+json": {
       "id": "4840"
      }
     },
     "output_type": "execute_result"
    }
   ],
   "source": [
    "# Create a styled line plot for the Europe, Middle East Africa region. \n",
    "# Make the line_color orange and be sure to set the plot equal to a variable. \n",
    "emea_plot = emea_revenue['Revenue'].hvplot(xlabel= \"EMEA\", ylabel= \"Revenue\", label=\"EMEA Revenue\", rot=45).opts(yformatter='%.0f', color=\"orange\")\n",
    "\n",
    "# Show the plot\n",
    "emea_plot\n"
   ]
  },
  {
   "cell_type": "markdown",
   "metadata": {},
   "source": [
    "## Step 9: Create an overlay plot for the \"United States and Canada\" and the \"Europe, Middle East and Africa\" regions."
   ]
  },
  {
   "cell_type": "code",
   "execution_count": 51,
   "metadata": {},
   "outputs": [
    {
     "data": {},
     "metadata": {},
     "output_type": "display_data"
    },
    {
     "data": {
      "application/vnd.holoviews_exec.v0+json": "",
      "text/html": [
       "<div id='4948'>\n",
       "  <div class=\"bk-root\" id=\"eeb0c514-646a-4b2c-893a-baf6ee1625db\" data-root-id=\"4948\"></div>\n",
       "</div>\n",
       "<script type=\"application/javascript\">(function(root) {\n",
       "  function embed_document(root) {\n",
       "    var docs_json = {\"f0b55718-1c5d-4a16-a4e8-b1b6bb2da748\":{\"defs\":[{\"extends\":null,\"module\":null,\"name\":\"ReactiveHTML1\",\"overrides\":[],\"properties\":[]},{\"extends\":null,\"module\":null,\"name\":\"FlexBox1\",\"overrides\":[],\"properties\":[{\"default\":\"flex-start\",\"kind\":null,\"name\":\"align_content\"},{\"default\":\"flex-start\",\"kind\":null,\"name\":\"align_items\"},{\"default\":\"row\",\"kind\":null,\"name\":\"flex_direction\"},{\"default\":\"wrap\",\"kind\":null,\"name\":\"flex_wrap\"},{\"default\":\"flex-start\",\"kind\":null,\"name\":\"justify_content\"}]},{\"extends\":null,\"module\":null,\"name\":\"GridStack1\",\"overrides\":[],\"properties\":[{\"default\":\"warn\",\"kind\":null,\"name\":\"mode\"},{\"default\":null,\"kind\":null,\"name\":\"ncols\"},{\"default\":null,\"kind\":null,\"name\":\"nrows\"},{\"default\":true,\"kind\":null,\"name\":\"allow_resize\"},{\"default\":true,\"kind\":null,\"name\":\"allow_drag\"},{\"default\":[],\"kind\":null,\"name\":\"state\"}]},{\"extends\":null,\"module\":null,\"name\":\"click1\",\"overrides\":[],\"properties\":[{\"default\":\"\",\"kind\":null,\"name\":\"terminal_output\"},{\"default\":\"\",\"kind\":null,\"name\":\"debug_name\"},{\"default\":0,\"kind\":null,\"name\":\"clears\"}]},{\"extends\":null,\"module\":null,\"name\":\"NotificationAreaBase1\",\"overrides\":[],\"properties\":[{\"default\":\"bottom-right\",\"kind\":null,\"name\":\"position\"},{\"default\":0,\"kind\":null,\"name\":\"_clear\"}]},{\"extends\":null,\"module\":null,\"name\":\"NotificationArea1\",\"overrides\":[],\"properties\":[{\"default\":[],\"kind\":null,\"name\":\"notifications\"},{\"default\":\"bottom-right\",\"kind\":null,\"name\":\"position\"},{\"default\":0,\"kind\":null,\"name\":\"_clear\"},{\"default\":[{\"background\":\"#ffc107\",\"icon\":{\"className\":\"fas fa-exclamation-triangle\",\"color\":\"white\",\"tagName\":\"i\"},\"type\":\"warning\"},{\"background\":\"#007bff\",\"icon\":{\"className\":\"fas fa-info-circle\",\"color\":\"white\",\"tagName\":\"i\"},\"type\":\"info\"}],\"kind\":null,\"name\":\"types\"}]},{\"extends\":null,\"module\":null,\"name\":\"Notification\",\"overrides\":[],\"properties\":[{\"default\":null,\"kind\":null,\"name\":\"background\"},{\"default\":3000,\"kind\":null,\"name\":\"duration\"},{\"default\":null,\"kind\":null,\"name\":\"icon\"},{\"default\":\"\",\"kind\":null,\"name\":\"message\"},{\"default\":null,\"kind\":null,\"name\":\"notification_type\"},{\"default\":false,\"kind\":null,\"name\":\"_destroyed\"}]},{\"extends\":null,\"module\":null,\"name\":\"TemplateActions1\",\"overrides\":[],\"properties\":[{\"default\":0,\"kind\":null,\"name\":\"open_modal\"},{\"default\":0,\"kind\":null,\"name\":\"close_modal\"}]},{\"extends\":null,\"module\":null,\"name\":\"MaterialTemplateActions1\",\"overrides\":[],\"properties\":[{\"default\":0,\"kind\":null,\"name\":\"open_modal\"},{\"default\":0,\"kind\":null,\"name\":\"close_modal\"}]}],\"roots\":{\"references\":[{\"attributes\":{},\"id\":\"4959\",\"type\":\"CategoricalScale\"},{\"attributes\":{\"overlay\":{\"id\":\"4975\"}},\"id\":\"4973\",\"type\":\"BoxZoomTool\"},{\"attributes\":{\"label\":{\"value\":\"USA and CA Revenue\"},\"renderers\":[{\"id\":\"4999\"}]},\"id\":\"5011\",\"type\":\"LegendItem\"},{\"attributes\":{},\"id\":\"5007\",\"type\":\"UnionRenderers\"},{\"attributes\":{\"coordinates\":null,\"group\":null,\"text_color\":\"black\",\"text_font_size\":\"12pt\"},\"id\":\"4955\",\"type\":\"Title\"},{\"attributes\":{\"line_color\":\"orange\",\"line_width\":2,\"x\":{\"field\":\"Years\"},\"y\":{\"field\":\"Revenue\"}},\"id\":\"5016\",\"type\":\"Line\"},{\"attributes\":{\"tools\":[{\"id\":\"4952\"},{\"id\":\"4970\"},{\"id\":\"4971\"},{\"id\":\"4972\"},{\"id\":\"4973\"},{\"id\":\"4974\"}]},\"id\":\"4976\",\"type\":\"Toolbar\"},{\"attributes\":{},\"id\":\"4985\",\"type\":\"CategoricalTickFormatter\"},{\"attributes\":{},\"id\":\"4972\",\"type\":\"WheelZoomTool\"},{\"attributes\":{\"format\":\"%.0f\"},\"id\":\"4983\",\"type\":\"PrintfTickFormatter\"},{\"attributes\":{},\"id\":\"4974\",\"type\":\"ResetTool\"},{\"attributes\":{\"margin\":[5,5,5,5],\"name\":\"HSpacer04324\",\"sizing_mode\":\"stretch_width\"},\"id\":\"4949\",\"type\":\"Spacer\"},{\"attributes\":{\"coordinates\":null,\"data_source\":{\"id\":\"5013\"},\"glyph\":{\"id\":\"5016\"},\"group\":null,\"hover_glyph\":null,\"muted_glyph\":{\"id\":\"5018\"},\"nonselection_glyph\":{\"id\":\"5017\"},\"selection_glyph\":{\"id\":\"5033\"},\"view\":{\"id\":\"5020\"}},\"id\":\"5019\",\"type\":\"GlyphRenderer\"},{\"attributes\":{\"below\":[{\"id\":\"4963\"}],\"center\":[{\"id\":\"4965\"},{\"id\":\"4969\"},{\"id\":\"5010\"}],\"height\":300,\"left\":[{\"id\":\"4966\"}],\"margin\":[5,5,5,5],\"min_border_bottom\":10,\"min_border_left\":10,\"min_border_right\":10,\"min_border_top\":10,\"renderers\":[{\"id\":\"4999\"},{\"id\":\"5019\"}],\"sizing_mode\":\"fixed\",\"title\":{\"id\":\"4955\"},\"toolbar\":{\"id\":\"4976\"},\"width\":700,\"x_range\":{\"id\":\"4950\"},\"x_scale\":{\"id\":\"4959\"},\"y_range\":{\"id\":\"4951\"},\"y_scale\":{\"id\":\"4961\"}},\"id\":\"4954\",\"subtype\":\"Figure\",\"type\":\"Plot\"},{\"attributes\":{\"axis_label\":\"USA and Canada\",\"coordinates\":null,\"formatter\":{\"id\":\"4985\"},\"group\":null,\"major_label_orientation\":0.7853981633974483,\"major_label_policy\":{\"id\":\"4986\"},\"ticker\":{\"id\":\"4964\"}},\"id\":\"4963\",\"type\":\"CategoricalAxis\"},{\"attributes\":{\"callback\":null,\"renderers\":[{\"id\":\"4999\"},{\"id\":\"5019\"}],\"tags\":[\"hv_created\"],\"tooltips\":[[\"Years\",\"@{Years}\"],[\"Revenue\",\"@{Revenue}\"]]},\"id\":\"4952\",\"type\":\"HoverTool\"},{\"attributes\":{},\"id\":\"4961\",\"type\":\"LinearScale\"},{\"attributes\":{\"data\":{\"Revenue\":[886649000,975497000,1004749000,1096812000,1233379000,1319087000,1428040000,1562561000,1723474000,1892537000],\"Years\":[\"Q1 - 2018\",\"Q2 - 2018\",\"Q3 - 2018\",\"Q4 - 2018\",\"Q1 - 2019\",\"Q2 - 2019\",\"Q3 - 2019\",\"Q4 - 2019\",\"Q1 - 2020\",\"Q2 - 2020\"]},\"selected\":{\"id\":\"5014\"},\"selection_policy\":{\"id\":\"5029\"}},\"id\":\"5013\",\"type\":\"ColumnDataSource\"},{\"attributes\":{\"bottom_units\":\"screen\",\"coordinates\":null,\"fill_alpha\":0.5,\"fill_color\":\"lightgrey\",\"group\":null,\"left_units\":\"screen\",\"level\":\"overlay\",\"line_alpha\":1.0,\"line_color\":\"black\",\"line_dash\":[4,4],\"line_width\":2,\"right_units\":\"screen\",\"syncable\":false,\"top_units\":\"screen\"},\"id\":\"4975\",\"type\":\"BoxAnnotation\"},{\"attributes\":{\"axis\":{\"id\":\"4966\"},\"coordinates\":null,\"dimension\":1,\"grid_line_color\":null,\"group\":null,\"ticker\":null},\"id\":\"4969\",\"type\":\"Grid\"},{\"attributes\":{\"line_color\":\"yellow\",\"line_width\":2,\"x\":{\"field\":\"Years\"},\"y\":{\"field\":\"Revenue\"}},\"id\":\"4997\",\"type\":\"Line\"},{\"attributes\":{},\"id\":\"4964\",\"type\":\"CategoricalTicker\"},{\"attributes\":{\"axis\":{\"id\":\"4963\"},\"coordinates\":null,\"grid_line_color\":null,\"group\":null,\"ticker\":null},\"id\":\"4965\",\"type\":\"Grid\"},{\"attributes\":{\"end\":3034972100.0,\"reset_end\":3034972100.0,\"reset_start\":691346900.0,\"start\":691346900.0,\"tags\":[[[\"Revenue\",\"Revenue\",null]]]},\"id\":\"4951\",\"type\":\"Range1d\"},{\"attributes\":{\"line_alpha\":0.2,\"line_color\":\"orange\",\"line_width\":2,\"x\":{\"field\":\"Years\"},\"y\":{\"field\":\"Revenue\"}},\"id\":\"5018\",\"type\":\"Line\"},{\"attributes\":{},\"id\":\"5029\",\"type\":\"UnionRenderers\"},{\"attributes\":{\"source\":{\"id\":\"5013\"}},\"id\":\"5020\",\"type\":\"CDSView\"},{\"attributes\":{},\"id\":\"4967\",\"type\":\"BasicTicker\"},{\"attributes\":{\"axis_label\":\"Revenue\",\"coordinates\":null,\"formatter\":{\"id\":\"4983\"},\"group\":null,\"major_label_policy\":{\"id\":\"4989\"},\"ticker\":{\"id\":\"4967\"}},\"id\":\"4966\",\"type\":\"LinearAxis\"},{\"attributes\":{\"line_color\":\"blue\",\"line_width\":2,\"x\":{\"field\":\"Years\"},\"y\":{\"field\":\"Revenue\"}},\"id\":\"5012\",\"type\":\"Line\"},{\"attributes\":{\"label\":{\"value\":\"EMEA Revenue\"},\"renderers\":[{\"id\":\"5019\"}]},\"id\":\"5032\",\"type\":\"LegendItem\"},{\"attributes\":{},\"id\":\"5014\",\"type\":\"Selection\"},{\"attributes\":{\"line_color\":\"blue\",\"line_width\":2,\"x\":{\"field\":\"Years\"},\"y\":{\"field\":\"Revenue\"}},\"id\":\"4995\",\"type\":\"Line\"},{\"attributes\":{},\"id\":\"4993\",\"type\":\"Selection\"},{\"attributes\":{\"line_color\":\"orange\",\"line_width\":2,\"x\":{\"field\":\"Years\"},\"y\":{\"field\":\"Revenue\"}},\"id\":\"5033\",\"type\":\"Line\"},{\"attributes\":{\"line_alpha\":0.1,\"line_color\":\"orange\",\"line_width\":2,\"x\":{\"field\":\"Years\"},\"y\":{\"field\":\"Revenue\"}},\"id\":\"5017\",\"type\":\"Line\"},{\"attributes\":{\"line_alpha\":0.1,\"line_color\":\"blue\",\"line_width\":2,\"x\":{\"field\":\"Years\"},\"y\":{\"field\":\"Revenue\"}},\"id\":\"4996\",\"type\":\"Line\"},{\"attributes\":{},\"id\":\"4989\",\"type\":\"AllLabels\"},{\"attributes\":{\"click_policy\":\"mute\",\"coordinates\":null,\"group\":null,\"items\":[{\"id\":\"5011\"},{\"id\":\"5032\"}]},\"id\":\"5010\",\"type\":\"Legend\"},{\"attributes\":{\"factors\":[\"Q1 - 2018\",\"Q2 - 2018\",\"Q3 - 2018\",\"Q4 - 2018\",\"Q1 - 2019\",\"Q2 - 2019\",\"Q3 - 2019\",\"Q4 - 2019\",\"Q1 - 2020\",\"Q2 - 2020\"],\"tags\":[[[\"Years\",\"Years\",null]]]},\"id\":\"4950\",\"type\":\"FactorRange\"},{\"attributes\":{\"line_alpha\":0.2,\"line_color\":\"blue\",\"line_width\":2,\"x\":{\"field\":\"Years\"},\"y\":{\"field\":\"Revenue\"}},\"id\":\"4998\",\"type\":\"Line\"},{\"attributes\":{},\"id\":\"4986\",\"type\":\"AllLabels\"},{\"attributes\":{\"margin\":[5,5,5,5],\"name\":\"HSpacer04325\",\"sizing_mode\":\"stretch_width\"},\"id\":\"5045\",\"type\":\"Spacer\"},{\"attributes\":{\"coordinates\":null,\"data_source\":{\"id\":\"4992\"},\"glyph\":{\"id\":\"4995\"},\"group\":null,\"hover_glyph\":{\"id\":\"4997\"},\"muted_glyph\":{\"id\":\"4998\"},\"nonselection_glyph\":{\"id\":\"4996\"},\"selection_glyph\":{\"id\":\"5012\"},\"view\":{\"id\":\"5000\"}},\"id\":\"4999\",\"type\":\"GlyphRenderer\"},{\"attributes\":{},\"id\":\"4970\",\"type\":\"SaveTool\"},{\"attributes\":{\"data\":{\"Revenue\":[1976157000,2049546000,2094850000,2160979000,2256851000,2501199000,2621250000,2671908000,2702776000,2839670000],\"Years\":[\"Q1 - 2018\",\"Q2 - 2018\",\"Q3 - 2018\",\"Q4 - 2018\",\"Q1 - 2019\",\"Q2 - 2019\",\"Q3 - 2019\",\"Q4 - 2019\",\"Q1 - 2020\",\"Q2 - 2020\"]},\"selected\":{\"id\":\"4993\"},\"selection_policy\":{\"id\":\"5007\"}},\"id\":\"4992\",\"type\":\"ColumnDataSource\"},{\"attributes\":{},\"id\":\"4971\",\"type\":\"PanTool\"},{\"attributes\":{\"children\":[{\"id\":\"4949\"},{\"id\":\"4954\"},{\"id\":\"5045\"}],\"margin\":[0,0,0,0],\"name\":\"Row04320\",\"tags\":[\"embedded\"]},\"id\":\"4948\",\"type\":\"Row\"},{\"attributes\":{\"source\":{\"id\":\"4992\"}},\"id\":\"5000\",\"type\":\"CDSView\"}],\"root_ids\":[\"4948\"]},\"title\":\"Bokeh Application\",\"version\":\"2.4.3\"}};\n",
       "    var render_items = [{\"docid\":\"f0b55718-1c5d-4a16-a4e8-b1b6bb2da748\",\"root_ids\":[\"4948\"],\"roots\":{\"4948\":\"eeb0c514-646a-4b2c-893a-baf6ee1625db\"}}];\n",
       "    root.Bokeh.embed.embed_items_notebook(docs_json, render_items);\n",
       "  }\n",
       "  if (root.Bokeh !== undefined && root.Bokeh.Panel !== undefined) {\n",
       "    embed_document(root);\n",
       "  } else {\n",
       "    var attempts = 0;\n",
       "    var timer = setInterval(function(root) {\n",
       "      if (root.Bokeh !== undefined && root.Bokeh.Panel !== undefined) {\n",
       "        clearInterval(timer);\n",
       "        embed_document(root);\n",
       "      } else if (document.readyState == \"complete\") {\n",
       "        attempts++;\n",
       "        if (attempts > 200) {\n",
       "          clearInterval(timer);\n",
       "          console.log(\"Bokeh: ERROR: Unable to run BokehJS code because BokehJS library is missing\");\n",
       "        }\n",
       "      }\n",
       "    }, 25, root)\n",
       "  }\n",
       "})(window);</script>"
      ],
      "text/plain": [
       ":Overlay\n",
       "   .Curve.USA_and_CA_Revenue :Curve   [Years]   (Revenue)\n",
       "   .Curve.EMEA_Revenue       :Curve   [Years]   (Revenue)"
      ]
     },
     "execution_count": 51,
     "metadata": {
      "application/vnd.holoviews_exec.v0+json": {
       "id": "4948"
      }
     },
     "output_type": "execute_result"
    }
   ],
   "source": [
    "# Create an overlay plot for the two visualizations\n",
    "\n",
    "(us_canada_plot * emea_plot)"
   ]
  },
  {
   "cell_type": "markdown",
   "metadata": {},
   "source": [
    "## Step 10: Add a title to the overlay plot. Additionally, adjust height, width and background color."
   ]
  },
  {
   "cell_type": "code",
   "execution_count": 52,
   "metadata": {},
   "outputs": [
    {
     "data": {},
     "metadata": {},
     "output_type": "display_data"
    },
    {
     "data": {
      "application/vnd.holoviews_exec.v0+json": "",
      "text/html": [
       "<div id='5102'>\n",
       "  <div class=\"bk-root\" id=\"db42447c-6ef8-417f-9de5-29c9746a85d7\" data-root-id=\"5102\"></div>\n",
       "</div>\n",
       "<script type=\"application/javascript\">(function(root) {\n",
       "  function embed_document(root) {\n",
       "    var docs_json = {\"1b1222df-bdfa-4fbc-9a65-1c92852b028f\":{\"defs\":[{\"extends\":null,\"module\":null,\"name\":\"ReactiveHTML1\",\"overrides\":[],\"properties\":[]},{\"extends\":null,\"module\":null,\"name\":\"FlexBox1\",\"overrides\":[],\"properties\":[{\"default\":\"flex-start\",\"kind\":null,\"name\":\"align_content\"},{\"default\":\"flex-start\",\"kind\":null,\"name\":\"align_items\"},{\"default\":\"row\",\"kind\":null,\"name\":\"flex_direction\"},{\"default\":\"wrap\",\"kind\":null,\"name\":\"flex_wrap\"},{\"default\":\"flex-start\",\"kind\":null,\"name\":\"justify_content\"}]},{\"extends\":null,\"module\":null,\"name\":\"GridStack1\",\"overrides\":[],\"properties\":[{\"default\":\"warn\",\"kind\":null,\"name\":\"mode\"},{\"default\":null,\"kind\":null,\"name\":\"ncols\"},{\"default\":null,\"kind\":null,\"name\":\"nrows\"},{\"default\":true,\"kind\":null,\"name\":\"allow_resize\"},{\"default\":true,\"kind\":null,\"name\":\"allow_drag\"},{\"default\":[],\"kind\":null,\"name\":\"state\"}]},{\"extends\":null,\"module\":null,\"name\":\"click1\",\"overrides\":[],\"properties\":[{\"default\":\"\",\"kind\":null,\"name\":\"terminal_output\"},{\"default\":\"\",\"kind\":null,\"name\":\"debug_name\"},{\"default\":0,\"kind\":null,\"name\":\"clears\"}]},{\"extends\":null,\"module\":null,\"name\":\"NotificationAreaBase1\",\"overrides\":[],\"properties\":[{\"default\":\"bottom-right\",\"kind\":null,\"name\":\"position\"},{\"default\":0,\"kind\":null,\"name\":\"_clear\"}]},{\"extends\":null,\"module\":null,\"name\":\"NotificationArea1\",\"overrides\":[],\"properties\":[{\"default\":[],\"kind\":null,\"name\":\"notifications\"},{\"default\":\"bottom-right\",\"kind\":null,\"name\":\"position\"},{\"default\":0,\"kind\":null,\"name\":\"_clear\"},{\"default\":[{\"background\":\"#ffc107\",\"icon\":{\"className\":\"fas fa-exclamation-triangle\",\"color\":\"white\",\"tagName\":\"i\"},\"type\":\"warning\"},{\"background\":\"#007bff\",\"icon\":{\"className\":\"fas fa-info-circle\",\"color\":\"white\",\"tagName\":\"i\"},\"type\":\"info\"}],\"kind\":null,\"name\":\"types\"}]},{\"extends\":null,\"module\":null,\"name\":\"Notification\",\"overrides\":[],\"properties\":[{\"default\":null,\"kind\":null,\"name\":\"background\"},{\"default\":3000,\"kind\":null,\"name\":\"duration\"},{\"default\":null,\"kind\":null,\"name\":\"icon\"},{\"default\":\"\",\"kind\":null,\"name\":\"message\"},{\"default\":null,\"kind\":null,\"name\":\"notification_type\"},{\"default\":false,\"kind\":null,\"name\":\"_destroyed\"}]},{\"extends\":null,\"module\":null,\"name\":\"TemplateActions1\",\"overrides\":[],\"properties\":[{\"default\":0,\"kind\":null,\"name\":\"open_modal\"},{\"default\":0,\"kind\":null,\"name\":\"close_modal\"}]},{\"extends\":null,\"module\":null,\"name\":\"MaterialTemplateActions1\",\"overrides\":[],\"properties\":[{\"default\":0,\"kind\":null,\"name\":\"open_modal\"},{\"default\":0,\"kind\":null,\"name\":\"close_modal\"}]}],\"roots\":{\"references\":[{\"attributes\":{\"axis\":{\"id\":\"5120\"},\"coordinates\":null,\"dimension\":1,\"grid_line_color\":null,\"group\":null,\"ticker\":null},\"id\":\"5123\",\"type\":\"Grid\"},{\"attributes\":{},\"id\":\"5183\",\"type\":\"UnionRenderers\"},{\"attributes\":{\"children\":[{\"id\":\"5103\"},{\"id\":\"5108\"},{\"id\":\"5199\"}],\"margin\":[0,0,0,0],\"name\":\"Row04415\",\"tags\":[\"embedded\"]},\"id\":\"5102\",\"type\":\"Row\"},{\"attributes\":{\"background_fill_color\":\"lightgray\",\"below\":[{\"id\":\"5117\"}],\"center\":[{\"id\":\"5119\"},{\"id\":\"5123\"},{\"id\":\"5164\"}],\"height\":500,\"left\":[{\"id\":\"5120\"}],\"margin\":[5,5,5,5],\"min_border_bottom\":10,\"min_border_left\":10,\"min_border_right\":10,\"min_border_top\":10,\"renderers\":[{\"id\":\"5153\"},{\"id\":\"5173\"}],\"sizing_mode\":\"fixed\",\"title\":{\"id\":\"5109\"},\"toolbar\":{\"id\":\"5130\"},\"width\":1000,\"x_range\":{\"id\":\"5104\"},\"x_scale\":{\"id\":\"5113\"},\"y_range\":{\"id\":\"5105\"},\"y_scale\":{\"id\":\"5115\"}},\"id\":\"5108\",\"subtype\":\"Figure\",\"type\":\"Plot\"},{\"attributes\":{\"line_color\":\"orange\",\"line_width\":2,\"x\":{\"field\":\"Years\"},\"y\":{\"field\":\"Revenue\"}},\"id\":\"5187\",\"type\":\"Line\"},{\"attributes\":{\"callback\":null,\"renderers\":[{\"id\":\"5153\"},{\"id\":\"5173\"}],\"tags\":[\"hv_created\"],\"tooltips\":[[\"Years\",\"@{Years}\"],[\"Revenue\",\"@{Revenue}\"]]},\"id\":\"5106\",\"type\":\"HoverTool\"},{\"attributes\":{\"line_alpha\":0.1,\"line_color\":\"blue\",\"line_width\":2,\"x\":{\"field\":\"Years\"},\"y\":{\"field\":\"Revenue\"}},\"id\":\"5150\",\"type\":\"Line\"},{\"attributes\":{\"line_alpha\":0.2,\"line_color\":\"blue\",\"line_width\":2,\"x\":{\"field\":\"Years\"},\"y\":{\"field\":\"Revenue\"}},\"id\":\"5152\",\"type\":\"Line\"},{\"attributes\":{\"coordinates\":null,\"data_source\":{\"id\":\"5146\"},\"glyph\":{\"id\":\"5149\"},\"group\":null,\"hover_glyph\":{\"id\":\"5151\"},\"muted_glyph\":{\"id\":\"5152\"},\"nonselection_glyph\":{\"id\":\"5150\"},\"selection_glyph\":{\"id\":\"5166\"},\"view\":{\"id\":\"5154\"}},\"id\":\"5153\",\"type\":\"GlyphRenderer\"},{\"attributes\":{},\"id\":\"5143\",\"type\":\"AllLabels\"},{\"attributes\":{\"line_color\":\"blue\",\"line_width\":2,\"x\":{\"field\":\"Years\"},\"y\":{\"field\":\"Revenue\"}},\"id\":\"5149\",\"type\":\"Line\"},{\"attributes\":{\"factors\":[\"Q1 - 2018\",\"Q2 - 2018\",\"Q3 - 2018\",\"Q4 - 2018\",\"Q1 - 2019\",\"Q2 - 2019\",\"Q3 - 2019\",\"Q4 - 2019\",\"Q1 - 2020\",\"Q2 - 2020\"],\"tags\":[[[\"Years\",\"Years\",null]]]},\"id\":\"5104\",\"type\":\"FactorRange\"},{\"attributes\":{\"click_policy\":\"mute\",\"coordinates\":null,\"group\":null,\"items\":[{\"id\":\"5165\"},{\"id\":\"5186\"}]},\"id\":\"5164\",\"type\":\"Legend\"},{\"attributes\":{\"data\":{\"Revenue\":[1976157000,2049546000,2094850000,2160979000,2256851000,2501199000,2621250000,2671908000,2702776000,2839670000],\"Years\":[\"Q1 - 2018\",\"Q2 - 2018\",\"Q3 - 2018\",\"Q4 - 2018\",\"Q1 - 2019\",\"Q2 - 2019\",\"Q3 - 2019\",\"Q4 - 2019\",\"Q1 - 2020\",\"Q2 - 2020\"]},\"selected\":{\"id\":\"5147\"},\"selection_policy\":{\"id\":\"5161\"}},\"id\":\"5146\",\"type\":\"ColumnDataSource\"},{\"attributes\":{},\"id\":\"5124\",\"type\":\"SaveTool\"},{\"attributes\":{},\"id\":\"5147\",\"type\":\"Selection\"},{\"attributes\":{},\"id\":\"5125\",\"type\":\"PanTool\"},{\"attributes\":{},\"id\":\"5139\",\"type\":\"CategoricalTickFormatter\"},{\"attributes\":{},\"id\":\"5113\",\"type\":\"CategoricalScale\"},{\"attributes\":{\"source\":{\"id\":\"5146\"}},\"id\":\"5154\",\"type\":\"CDSView\"},{\"attributes\":{},\"id\":\"5126\",\"type\":\"WheelZoomTool\"},{\"attributes\":{\"tools\":[{\"id\":\"5106\"},{\"id\":\"5124\"},{\"id\":\"5125\"},{\"id\":\"5126\"},{\"id\":\"5127\"},{\"id\":\"5128\"}]},\"id\":\"5130\",\"type\":\"Toolbar\"},{\"attributes\":{\"overlay\":{\"id\":\"5129\"}},\"id\":\"5127\",\"type\":\"BoxZoomTool\"},{\"attributes\":{\"label\":{\"value\":\"USA and CA Revenue\"},\"renderers\":[{\"id\":\"5153\"}]},\"id\":\"5165\",\"type\":\"LegendItem\"},{\"attributes\":{\"end\":3034972100.0,\"reset_end\":3034972100.0,\"reset_start\":691346900.0,\"start\":691346900.0,\"tags\":[[[\"Revenue\",\"Revenue\",null]]]},\"id\":\"5105\",\"type\":\"Range1d\"},{\"attributes\":{\"coordinates\":null,\"group\":null,\"text\":\"Revenue of NA and EMEA\",\"text_color\":\"black\",\"text_font_size\":\"12pt\"},\"id\":\"5109\",\"type\":\"Title\"},{\"attributes\":{},\"id\":\"5161\",\"type\":\"UnionRenderers\"},{\"attributes\":{\"axis_label\":\"USA and Canada\",\"coordinates\":null,\"formatter\":{\"id\":\"5139\"},\"group\":null,\"major_label_orientation\":0.7853981633974483,\"major_label_policy\":{\"id\":\"5140\"},\"ticker\":{\"id\":\"5118\"}},\"id\":\"5117\",\"type\":\"CategoricalAxis\"},{\"attributes\":{\"line_color\":\"yellow\",\"line_width\":2,\"x\":{\"field\":\"Years\"},\"y\":{\"field\":\"Revenue\"}},\"id\":\"5151\",\"type\":\"Line\"},{\"attributes\":{\"margin\":[5,5,5,5],\"name\":\"HSpacer04419\",\"sizing_mode\":\"stretch_width\"},\"id\":\"5103\",\"type\":\"Spacer\"},{\"attributes\":{\"coordinates\":null,\"data_source\":{\"id\":\"5167\"},\"glyph\":{\"id\":\"5170\"},\"group\":null,\"hover_glyph\":null,\"muted_glyph\":{\"id\":\"5172\"},\"nonselection_glyph\":{\"id\":\"5171\"},\"selection_glyph\":{\"id\":\"5187\"},\"view\":{\"id\":\"5174\"}},\"id\":\"5173\",\"type\":\"GlyphRenderer\"},{\"attributes\":{\"line_alpha\":0.1,\"line_color\":\"orange\",\"line_width\":2,\"x\":{\"field\":\"Years\"},\"y\":{\"field\":\"Revenue\"}},\"id\":\"5171\",\"type\":\"Line\"},{\"attributes\":{},\"id\":\"5140\",\"type\":\"AllLabels\"},{\"attributes\":{},\"id\":\"5128\",\"type\":\"ResetTool\"},{\"attributes\":{},\"id\":\"5115\",\"type\":\"LinearScale\"},{\"attributes\":{},\"id\":\"5121\",\"type\":\"BasicTicker\"},{\"attributes\":{\"bottom_units\":\"screen\",\"coordinates\":null,\"fill_alpha\":0.5,\"fill_color\":\"lightgrey\",\"group\":null,\"left_units\":\"screen\",\"level\":\"overlay\",\"line_alpha\":1.0,\"line_color\":\"black\",\"line_dash\":[4,4],\"line_width\":2,\"right_units\":\"screen\",\"syncable\":false,\"top_units\":\"screen\"},\"id\":\"5129\",\"type\":\"BoxAnnotation\"},{\"attributes\":{},\"id\":\"5168\",\"type\":\"Selection\"},{\"attributes\":{\"format\":\"%.0f\"},\"id\":\"5137\",\"type\":\"PrintfTickFormatter\"},{\"attributes\":{\"margin\":[5,5,5,5],\"name\":\"HSpacer04420\",\"sizing_mode\":\"stretch_width\"},\"id\":\"5199\",\"type\":\"Spacer\"},{\"attributes\":{\"data\":{\"Revenue\":[886649000,975497000,1004749000,1096812000,1233379000,1319087000,1428040000,1562561000,1723474000,1892537000],\"Years\":[\"Q1 - 2018\",\"Q2 - 2018\",\"Q3 - 2018\",\"Q4 - 2018\",\"Q1 - 2019\",\"Q2 - 2019\",\"Q3 - 2019\",\"Q4 - 2019\",\"Q1 - 2020\",\"Q2 - 2020\"]},\"selected\":{\"id\":\"5168\"},\"selection_policy\":{\"id\":\"5183\"}},\"id\":\"5167\",\"type\":\"ColumnDataSource\"},{\"attributes\":{\"line_color\":\"orange\",\"line_width\":2,\"x\":{\"field\":\"Years\"},\"y\":{\"field\":\"Revenue\"}},\"id\":\"5170\",\"type\":\"Line\"},{\"attributes\":{},\"id\":\"5118\",\"type\":\"CategoricalTicker\"},{\"attributes\":{\"source\":{\"id\":\"5167\"}},\"id\":\"5174\",\"type\":\"CDSView\"},{\"attributes\":{\"axis\":{\"id\":\"5117\"},\"coordinates\":null,\"grid_line_color\":null,\"group\":null,\"ticker\":null},\"id\":\"5119\",\"type\":\"Grid\"},{\"attributes\":{\"line_alpha\":0.2,\"line_color\":\"orange\",\"line_width\":2,\"x\":{\"field\":\"Years\"},\"y\":{\"field\":\"Revenue\"}},\"id\":\"5172\",\"type\":\"Line\"},{\"attributes\":{\"label\":{\"value\":\"EMEA Revenue\"},\"renderers\":[{\"id\":\"5173\"}]},\"id\":\"5186\",\"type\":\"LegendItem\"},{\"attributes\":{\"line_color\":\"blue\",\"line_width\":2,\"x\":{\"field\":\"Years\"},\"y\":{\"field\":\"Revenue\"}},\"id\":\"5166\",\"type\":\"Line\"},{\"attributes\":{\"axis_label\":\"Revenue\",\"coordinates\":null,\"formatter\":{\"id\":\"5137\"},\"group\":null,\"major_label_policy\":{\"id\":\"5143\"},\"ticker\":{\"id\":\"5121\"}},\"id\":\"5120\",\"type\":\"LinearAxis\"}],\"root_ids\":[\"5102\"]},\"title\":\"Bokeh Application\",\"version\":\"2.4.3\"}};\n",
       "    var render_items = [{\"docid\":\"1b1222df-bdfa-4fbc-9a65-1c92852b028f\",\"root_ids\":[\"5102\"],\"roots\":{\"5102\":\"db42447c-6ef8-417f-9de5-29c9746a85d7\"}}];\n",
       "    root.Bokeh.embed.embed_items_notebook(docs_json, render_items);\n",
       "  }\n",
       "  if (root.Bokeh !== undefined && root.Bokeh.Panel !== undefined) {\n",
       "    embed_document(root);\n",
       "  } else {\n",
       "    var attempts = 0;\n",
       "    var timer = setInterval(function(root) {\n",
       "      if (root.Bokeh !== undefined && root.Bokeh.Panel !== undefined) {\n",
       "        clearInterval(timer);\n",
       "        embed_document(root);\n",
       "      } else if (document.readyState == \"complete\") {\n",
       "        attempts++;\n",
       "        if (attempts > 200) {\n",
       "          clearInterval(timer);\n",
       "          console.log(\"Bokeh: ERROR: Unable to run BokehJS code because BokehJS library is missing\");\n",
       "        }\n",
       "      }\n",
       "    }, 25, root)\n",
       "  }\n",
       "})(window);</script>"
      ],
      "text/plain": [
       ":Overlay\n",
       "   .Curve.USA_and_CA_Revenue :Curve   [Years]   (Revenue)\n",
       "   .Curve.EMEA_Revenue       :Curve   [Years]   (Revenue)"
      ]
     },
     "execution_count": 52,
     "metadata": {
      "application/vnd.holoviews_exec.v0+json": {
       "id": "5102"
      }
     },
     "output_type": "execute_result"
    }
   ],
   "source": [
    "# Adjust the title, height, width and background color of the overlay plot\n",
    "(us_canada_plot * emea_plot).opts(\n",
    "    title='Revenue of NA and EMEA',\n",
    "    height = 500,\n",
    "    width = 1000,\n",
    "    bgcolor = 'lightgray'\n",
    ")"
   ]
  },
  {
   "cell_type": "markdown",
   "metadata": {},
   "source": [
    "## Step 11: Bonus - Create line plots for the Latin America and Asia Pacific Regions"
   ]
  },
  {
   "cell_type": "code",
   "execution_count": 53,
   "metadata": {},
   "outputs": [],
   "source": [
    "# Create a DataFrame that slices the subscriber data for the Asia-Pacific region\n",
    "ap_revenue = regional_revenue_df.loc[regional_revenue_df['Area']=='Asia-Pacific']\n",
    "\n",
    "\n",
    "# Set the index of the DataFrame to Years\n",
    "ap_revenue = ap_revenue.set_index('Years')"
   ]
  },
  {
   "cell_type": "code",
   "execution_count": 54,
   "metadata": {},
   "outputs": [
    {
     "data": {},
     "metadata": {},
     "output_type": "display_data"
    },
    {
     "data": {
      "application/vnd.holoviews_exec.v0+json": "",
      "text/html": [
       "<div id='5256'>\n",
       "  <div class=\"bk-root\" id=\"282fbc1b-d7ad-43fb-85a5-33e0ade4ffc1\" data-root-id=\"5256\"></div>\n",
       "</div>\n",
       "<script type=\"application/javascript\">(function(root) {\n",
       "  function embed_document(root) {\n",
       "    var docs_json = {\"d9440462-303e-410e-8c94-7ab6020b9d77\":{\"defs\":[{\"extends\":null,\"module\":null,\"name\":\"ReactiveHTML1\",\"overrides\":[],\"properties\":[]},{\"extends\":null,\"module\":null,\"name\":\"FlexBox1\",\"overrides\":[],\"properties\":[{\"default\":\"flex-start\",\"kind\":null,\"name\":\"align_content\"},{\"default\":\"flex-start\",\"kind\":null,\"name\":\"align_items\"},{\"default\":\"row\",\"kind\":null,\"name\":\"flex_direction\"},{\"default\":\"wrap\",\"kind\":null,\"name\":\"flex_wrap\"},{\"default\":\"flex-start\",\"kind\":null,\"name\":\"justify_content\"}]},{\"extends\":null,\"module\":null,\"name\":\"GridStack1\",\"overrides\":[],\"properties\":[{\"default\":\"warn\",\"kind\":null,\"name\":\"mode\"},{\"default\":null,\"kind\":null,\"name\":\"ncols\"},{\"default\":null,\"kind\":null,\"name\":\"nrows\"},{\"default\":true,\"kind\":null,\"name\":\"allow_resize\"},{\"default\":true,\"kind\":null,\"name\":\"allow_drag\"},{\"default\":[],\"kind\":null,\"name\":\"state\"}]},{\"extends\":null,\"module\":null,\"name\":\"click1\",\"overrides\":[],\"properties\":[{\"default\":\"\",\"kind\":null,\"name\":\"terminal_output\"},{\"default\":\"\",\"kind\":null,\"name\":\"debug_name\"},{\"default\":0,\"kind\":null,\"name\":\"clears\"}]},{\"extends\":null,\"module\":null,\"name\":\"NotificationAreaBase1\",\"overrides\":[],\"properties\":[{\"default\":\"bottom-right\",\"kind\":null,\"name\":\"position\"},{\"default\":0,\"kind\":null,\"name\":\"_clear\"}]},{\"extends\":null,\"module\":null,\"name\":\"NotificationArea1\",\"overrides\":[],\"properties\":[{\"default\":[],\"kind\":null,\"name\":\"notifications\"},{\"default\":\"bottom-right\",\"kind\":null,\"name\":\"position\"},{\"default\":0,\"kind\":null,\"name\":\"_clear\"},{\"default\":[{\"background\":\"#ffc107\",\"icon\":{\"className\":\"fas fa-exclamation-triangle\",\"color\":\"white\",\"tagName\":\"i\"},\"type\":\"warning\"},{\"background\":\"#007bff\",\"icon\":{\"className\":\"fas fa-info-circle\",\"color\":\"white\",\"tagName\":\"i\"},\"type\":\"info\"}],\"kind\":null,\"name\":\"types\"}]},{\"extends\":null,\"module\":null,\"name\":\"Notification\",\"overrides\":[],\"properties\":[{\"default\":null,\"kind\":null,\"name\":\"background\"},{\"default\":3000,\"kind\":null,\"name\":\"duration\"},{\"default\":null,\"kind\":null,\"name\":\"icon\"},{\"default\":\"\",\"kind\":null,\"name\":\"message\"},{\"default\":null,\"kind\":null,\"name\":\"notification_type\"},{\"default\":false,\"kind\":null,\"name\":\"_destroyed\"}]},{\"extends\":null,\"module\":null,\"name\":\"TemplateActions1\",\"overrides\":[],\"properties\":[{\"default\":0,\"kind\":null,\"name\":\"open_modal\"},{\"default\":0,\"kind\":null,\"name\":\"close_modal\"}]},{\"extends\":null,\"module\":null,\"name\":\"MaterialTemplateActions1\",\"overrides\":[],\"properties\":[{\"default\":0,\"kind\":null,\"name\":\"open_modal\"},{\"default\":0,\"kind\":null,\"name\":\"close_modal\"}]}],\"roots\":{\"references\":[{\"attributes\":{},\"id\":\"5291\",\"type\":\"Selection\"},{\"attributes\":{},\"id\":\"5274\",\"type\":\"BasicTicker\"},{\"attributes\":{\"coordinates\":null,\"data_source\":{\"id\":\"5290\"},\"glyph\":{\"id\":\"5293\"},\"group\":null,\"hover_glyph\":null,\"muted_glyph\":{\"id\":\"5295\"},\"nonselection_glyph\":{\"id\":\"5294\"},\"selection_glyph\":{\"id\":\"5298\"},\"view\":{\"id\":\"5297\"}},\"id\":\"5296\",\"type\":\"GlyphRenderer\"},{\"attributes\":{\"children\":[{\"id\":\"5257\"},{\"id\":\"5261\"},{\"id\":\"5317\"}],\"margin\":[0,0,0,0],\"name\":\"Row04576\",\"tags\":[\"embedded\"]},\"id\":\"5256\",\"type\":\"Row\"},{\"attributes\":{\"line_alpha\":0.1,\"line_color\":\"orange\",\"line_width\":2,\"x\":{\"field\":\"Years\"},\"y\":{\"field\":\"Revenue\"}},\"id\":\"5294\",\"type\":\"Line\"},{\"attributes\":{\"margin\":[5,5,5,5],\"name\":\"HSpacer04581\",\"sizing_mode\":\"stretch_width\"},\"id\":\"5317\",\"type\":\"Spacer\"},{\"attributes\":{\"margin\":[5,5,5,5],\"name\":\"HSpacer04580\",\"sizing_mode\":\"stretch_width\"},\"id\":\"5257\",\"type\":\"Spacer\"},{\"attributes\":{\"callback\":null,\"renderers\":[{\"id\":\"5296\"}],\"tags\":[\"hv_created\"],\"tooltips\":[[\"Years\",\"@{Years}\"],[\"Revenue\",\"@{Revenue}\"]]},\"id\":\"5260\",\"type\":\"HoverTool\"},{\"attributes\":{\"source\":{\"id\":\"5290\"}},\"id\":\"5297\",\"type\":\"CDSView\"},{\"attributes\":{\"line_alpha\":0.2,\"line_color\":\"orange\",\"line_width\":2,\"x\":{\"field\":\"Years\"},\"y\":{\"field\":\"Revenue\"}},\"id\":\"5295\",\"type\":\"Line\"},{\"attributes\":{},\"id\":\"5301\",\"type\":\"CategoricalTickFormatter\"},{\"attributes\":{},\"id\":\"5277\",\"type\":\"SaveTool\"},{\"attributes\":{\"below\":[{\"id\":\"5270\"}],\"center\":[{\"id\":\"5272\"},{\"id\":\"5276\"}],\"height\":300,\"left\":[{\"id\":\"5273\"}],\"margin\":[5,5,5,5],\"min_border_bottom\":10,\"min_border_left\":10,\"min_border_right\":10,\"min_border_top\":10,\"renderers\":[{\"id\":\"5296\"}],\"sizing_mode\":\"fixed\",\"title\":{\"id\":\"5262\"},\"toolbar\":{\"id\":\"5283\"},\"width\":700,\"x_range\":{\"id\":\"5258\"},\"x_scale\":{\"id\":\"5266\"},\"y_range\":{\"id\":\"5259\"},\"y_scale\":{\"id\":\"5268\"}},\"id\":\"5261\",\"subtype\":\"Figure\",\"type\":\"Plot\"},{\"attributes\":{},\"id\":\"5278\",\"type\":\"PanTool\"},{\"attributes\":{\"line_color\":\"orange\",\"line_width\":2,\"x\":{\"field\":\"Years\"},\"y\":{\"field\":\"Revenue\"}},\"id\":\"5293\",\"type\":\"Line\"},{\"attributes\":{\"format\":\"%.0f\"},\"id\":\"5299\",\"type\":\"PrintfTickFormatter\"},{\"attributes\":{},\"id\":\"5279\",\"type\":\"WheelZoomTool\"},{\"attributes\":{},\"id\":\"5314\",\"type\":\"UnionRenderers\"},{\"attributes\":{\"tools\":[{\"id\":\"5260\"},{\"id\":\"5277\"},{\"id\":\"5278\"},{\"id\":\"5279\"},{\"id\":\"5280\"},{\"id\":\"5281\"}]},\"id\":\"5283\",\"type\":\"Toolbar\"},{\"attributes\":{},\"id\":\"5302\",\"type\":\"AllLabels\"},{\"attributes\":{\"overlay\":{\"id\":\"5282\"}},\"id\":\"5280\",\"type\":\"BoxZoomTool\"},{\"attributes\":{},\"id\":\"5266\",\"type\":\"CategoricalScale\"},{\"attributes\":{\"end\":606142300.0,\"reset_end\":606142300.0,\"reset_start\":162114700.0,\"start\":162114700.0,\"tags\":[[[\"Revenue\",\"Revenue\",null]]]},\"id\":\"5259\",\"type\":\"Range1d\"},{\"attributes\":{\"coordinates\":null,\"group\":null,\"text\":\"AP Revenue\",\"text_color\":\"black\",\"text_font_size\":\"12pt\"},\"id\":\"5262\",\"type\":\"Title\"},{\"attributes\":{},\"id\":\"5305\",\"type\":\"AllLabels\"},{\"attributes\":{},\"id\":\"5281\",\"type\":\"ResetTool\"},{\"attributes\":{\"data\":{\"Revenue\":[199117000,221252000,248691000,276756000,319602000,349494000,382304000,418121000,483660000,569140000],\"Years\":[\"Q1 - 2018\",\"Q2 - 2018\",\"Q3 - 2018\",\"Q4 - 2018\",\"Q1 - 2019\",\"Q2 - 2019\",\"Q3 - 2019\",\"Q4 - 2019\",\"Q1 - 2020\",\"Q2 - 2020\"]},\"selected\":{\"id\":\"5291\"},\"selection_policy\":{\"id\":\"5314\"}},\"id\":\"5290\",\"type\":\"ColumnDataSource\"},{\"attributes\":{\"axis_label\":\"Revenue\",\"coordinates\":null,\"formatter\":{\"id\":\"5299\"},\"group\":null,\"major_label_policy\":{\"id\":\"5305\"},\"ticker\":{\"id\":\"5274\"}},\"id\":\"5273\",\"type\":\"LinearAxis\"},{\"attributes\":{\"bottom_units\":\"screen\",\"coordinates\":null,\"fill_alpha\":0.5,\"fill_color\":\"lightgrey\",\"group\":null,\"left_units\":\"screen\",\"level\":\"overlay\",\"line_alpha\":1.0,\"line_color\":\"black\",\"line_dash\":[4,4],\"line_width\":2,\"right_units\":\"screen\",\"syncable\":false,\"top_units\":\"screen\"},\"id\":\"5282\",\"type\":\"BoxAnnotation\"},{\"attributes\":{},\"id\":\"5268\",\"type\":\"LinearScale\"},{\"attributes\":{\"axis_label\":\"AP\",\"coordinates\":null,\"formatter\":{\"id\":\"5301\"},\"group\":null,\"major_label_orientation\":0.7853981633974483,\"major_label_policy\":{\"id\":\"5302\"},\"ticker\":{\"id\":\"5271\"}},\"id\":\"5270\",\"type\":\"CategoricalAxis\"},{\"attributes\":{\"line_color\":\"orange\",\"line_width\":2,\"x\":{\"field\":\"Years\"},\"y\":{\"field\":\"Revenue\"}},\"id\":\"5298\",\"type\":\"Line\"},{\"attributes\":{},\"id\":\"5271\",\"type\":\"CategoricalTicker\"},{\"attributes\":{\"axis\":{\"id\":\"5273\"},\"coordinates\":null,\"dimension\":1,\"grid_line_color\":null,\"group\":null,\"ticker\":null},\"id\":\"5276\",\"type\":\"Grid\"},{\"attributes\":{\"axis\":{\"id\":\"5270\"},\"coordinates\":null,\"grid_line_color\":null,\"group\":null,\"ticker\":null},\"id\":\"5272\",\"type\":\"Grid\"},{\"attributes\":{\"factors\":[\"Q1 - 2018\",\"Q2 - 2018\",\"Q3 - 2018\",\"Q4 - 2018\",\"Q1 - 2019\",\"Q2 - 2019\",\"Q3 - 2019\",\"Q4 - 2019\",\"Q1 - 2020\",\"Q2 - 2020\"],\"tags\":[[[\"Years\",\"Years\",null]]]},\"id\":\"5258\",\"type\":\"FactorRange\"}],\"root_ids\":[\"5256\"]},\"title\":\"Bokeh Application\",\"version\":\"2.4.3\"}};\n",
       "    var render_items = [{\"docid\":\"d9440462-303e-410e-8c94-7ab6020b9d77\",\"root_ids\":[\"5256\"],\"roots\":{\"5256\":\"282fbc1b-d7ad-43fb-85a5-33e0ade4ffc1\"}}];\n",
       "    root.Bokeh.embed.embed_items_notebook(docs_json, render_items);\n",
       "  }\n",
       "  if (root.Bokeh !== undefined && root.Bokeh.Panel !== undefined) {\n",
       "    embed_document(root);\n",
       "  } else {\n",
       "    var attempts = 0;\n",
       "    var timer = setInterval(function(root) {\n",
       "      if (root.Bokeh !== undefined && root.Bokeh.Panel !== undefined) {\n",
       "        clearInterval(timer);\n",
       "        embed_document(root);\n",
       "      } else if (document.readyState == \"complete\") {\n",
       "        attempts++;\n",
       "        if (attempts > 200) {\n",
       "          clearInterval(timer);\n",
       "          console.log(\"Bokeh: ERROR: Unable to run BokehJS code because BokehJS library is missing\");\n",
       "        }\n",
       "      }\n",
       "    }, 25, root)\n",
       "  }\n",
       "})(window);</script>"
      ],
      "text/plain": [
       ":Curve   [Years]   (Revenue)"
      ]
     },
     "execution_count": 54,
     "metadata": {
      "application/vnd.holoviews_exec.v0+json": {
       "id": "5256"
      }
     },
     "output_type": "execute_result"
    }
   ],
   "source": [
    "# Create a styled line plot for the Asia-Pacific region. \n",
    "# Make the line_color orange and be sure to set the plot equal to a variable. \n",
    "ap_plot =  ap_revenue['Revenue'].hvplot(xlabel= \"AP\", ylabel= \"Revenue\", label=\"AP Revenue\", rot=45).opts(yformatter='%.0f', color=\"orange\")\n",
    "\n",
    "\n",
    "# Show the plot\n",
    "ap_plot"
   ]
  },
  {
   "cell_type": "code",
   "execution_count": 55,
   "metadata": {},
   "outputs": [
    {
     "ename": "SyntaxError",
     "evalue": "invalid syntax (530883461.py, line 2)",
     "output_type": "error",
     "traceback": [
      "\u001b[0;36m  File \u001b[0;32m\"/var/folders/dx/8m8b_r_57793yl3byvym44sh0000gn/T/ipykernel_3355/530883461.py\"\u001b[0;36m, line \u001b[0;32m2\u001b[0m\n\u001b[0;31m    lam_revenue = # YOUR CODE HERE\u001b[0m\n\u001b[0m                                    ^\u001b[0m\n\u001b[0;31mSyntaxError\u001b[0m\u001b[0;31m:\u001b[0m invalid syntax\n"
     ]
    }
   ],
   "source": [
    "# Create a DataFrame that slices the subscriber data for the Latin America region\n",
    "lam_revenue = # YOUR CODE HERE  \n",
    "\n",
    "# Set the index of the DataFrame to Years\n",
    "lam_revenue = # YOUR CODE HERE  "
   ]
  },
  {
   "cell_type": "code",
   "execution_count": null,
   "metadata": {},
   "outputs": [],
   "source": [
    "# Create a styled line plot for the Latin America region. \n",
    "# Make the line_color orange and be sure to set the plot equal to a variable. \n",
    "lam_plot = # YOUR CODE HERE   \n",
    "\n",
    "# Show the plot\n",
    "lam_plot"
   ]
  },
  {
   "cell_type": "code",
   "execution_count": 58,
   "metadata": {},
   "outputs": [
    {
     "data": {},
     "metadata": {},
     "output_type": "display_data"
    },
    {
     "data": {
      "application/vnd.holoviews_exec.v0+json": "",
      "text/html": [
       "<div id='5663'>\n",
       "  <div class=\"bk-root\" id=\"ad08f870-0731-4943-b6f5-a9783298d130\" data-root-id=\"5663\"></div>\n",
       "</div>\n",
       "<script type=\"application/javascript\">(function(root) {\n",
       "  function embed_document(root) {\n",
       "    var docs_json = {\"55aab906-466f-4931-bf0d-269341808025\":{\"defs\":[{\"extends\":null,\"module\":null,\"name\":\"ReactiveHTML1\",\"overrides\":[],\"properties\":[]},{\"extends\":null,\"module\":null,\"name\":\"FlexBox1\",\"overrides\":[],\"properties\":[{\"default\":\"flex-start\",\"kind\":null,\"name\":\"align_content\"},{\"default\":\"flex-start\",\"kind\":null,\"name\":\"align_items\"},{\"default\":\"row\",\"kind\":null,\"name\":\"flex_direction\"},{\"default\":\"wrap\",\"kind\":null,\"name\":\"flex_wrap\"},{\"default\":\"flex-start\",\"kind\":null,\"name\":\"justify_content\"}]},{\"extends\":null,\"module\":null,\"name\":\"GridStack1\",\"overrides\":[],\"properties\":[{\"default\":\"warn\",\"kind\":null,\"name\":\"mode\"},{\"default\":null,\"kind\":null,\"name\":\"ncols\"},{\"default\":null,\"kind\":null,\"name\":\"nrows\"},{\"default\":true,\"kind\":null,\"name\":\"allow_resize\"},{\"default\":true,\"kind\":null,\"name\":\"allow_drag\"},{\"default\":[],\"kind\":null,\"name\":\"state\"}]},{\"extends\":null,\"module\":null,\"name\":\"click1\",\"overrides\":[],\"properties\":[{\"default\":\"\",\"kind\":null,\"name\":\"terminal_output\"},{\"default\":\"\",\"kind\":null,\"name\":\"debug_name\"},{\"default\":0,\"kind\":null,\"name\":\"clears\"}]},{\"extends\":null,\"module\":null,\"name\":\"NotificationAreaBase1\",\"overrides\":[],\"properties\":[{\"default\":\"bottom-right\",\"kind\":null,\"name\":\"position\"},{\"default\":0,\"kind\":null,\"name\":\"_clear\"}]},{\"extends\":null,\"module\":null,\"name\":\"NotificationArea1\",\"overrides\":[],\"properties\":[{\"default\":[],\"kind\":null,\"name\":\"notifications\"},{\"default\":\"bottom-right\",\"kind\":null,\"name\":\"position\"},{\"default\":0,\"kind\":null,\"name\":\"_clear\"},{\"default\":[{\"background\":\"#ffc107\",\"icon\":{\"className\":\"fas fa-exclamation-triangle\",\"color\":\"white\",\"tagName\":\"i\"},\"type\":\"warning\"},{\"background\":\"#007bff\",\"icon\":{\"className\":\"fas fa-info-circle\",\"color\":\"white\",\"tagName\":\"i\"},\"type\":\"info\"}],\"kind\":null,\"name\":\"types\"}]},{\"extends\":null,\"module\":null,\"name\":\"Notification\",\"overrides\":[],\"properties\":[{\"default\":null,\"kind\":null,\"name\":\"background\"},{\"default\":3000,\"kind\":null,\"name\":\"duration\"},{\"default\":null,\"kind\":null,\"name\":\"icon\"},{\"default\":\"\",\"kind\":null,\"name\":\"message\"},{\"default\":null,\"kind\":null,\"name\":\"notification_type\"},{\"default\":false,\"kind\":null,\"name\":\"_destroyed\"}]},{\"extends\":null,\"module\":null,\"name\":\"TemplateActions1\",\"overrides\":[],\"properties\":[{\"default\":0,\"kind\":null,\"name\":\"open_modal\"},{\"default\":0,\"kind\":null,\"name\":\"close_modal\"}]},{\"extends\":null,\"module\":null,\"name\":\"MaterialTemplateActions1\",\"overrides\":[],\"properties\":[{\"default\":0,\"kind\":null,\"name\":\"open_modal\"},{\"default\":0,\"kind\":null,\"name\":\"close_modal\"}]}],\"roots\":{\"references\":[{\"attributes\":{\"axis_label\":\"USA and Canada\",\"coordinates\":null,\"formatter\":{\"id\":\"5701\"},\"group\":null,\"major_label_orientation\":0.7853981633974483,\"major_label_policy\":{\"id\":\"5702\"},\"ticker\":{\"id\":\"5680\"}},\"id\":\"5679\",\"type\":\"CategoricalAxis\"},{\"attributes\":{},\"id\":\"5690\",\"type\":\"ResetTool\"},{\"attributes\":{\"tools\":[{\"id\":\"5667\"},{\"id\":\"5686\"},{\"id\":\"5687\"},{\"id\":\"5688\"},{\"id\":\"5689\"},{\"id\":\"5690\"}]},\"id\":\"5692\",\"type\":\"Toolbar\"},{\"attributes\":{\"line_color\":\"orange\",\"line_width\":2,\"x\":{\"field\":\"Years\"},\"y\":{\"field\":\"Revenue\"}},\"id\":\"5732\",\"type\":\"Line\"},{\"attributes\":{},\"id\":\"5709\",\"type\":\"Selection\"},{\"attributes\":{\"source\":{\"id\":\"5750\"}},\"id\":\"5757\",\"type\":\"CDSView\"},{\"attributes\":{\"callback\":null,\"renderers\":[{\"id\":\"5715\"},{\"id\":\"5735\"},{\"id\":\"5756\"}],\"tags\":[\"hv_created\"],\"tooltips\":[[\"Years\",\"@{Years}\"],[\"Revenue\",\"@{Revenue}\"]]},\"id\":\"5667\",\"type\":\"HoverTool\"},{\"attributes\":{\"label\":{\"value\":\"AP Revenue\"},\"renderers\":[{\"id\":\"5756\"}]},\"id\":\"5771\",\"type\":\"LegendItem\"},{\"attributes\":{\"bottom_units\":\"screen\",\"coordinates\":null,\"fill_alpha\":0.5,\"fill_color\":\"lightgrey\",\"group\":null,\"left_units\":\"screen\",\"level\":\"overlay\",\"line_alpha\":1.0,\"line_color\":\"black\",\"line_dash\":[4,4],\"line_width\":2,\"right_units\":\"screen\",\"syncable\":false,\"top_units\":\"screen\"},\"id\":\"5691\",\"type\":\"BoxAnnotation\"},{\"attributes\":{\"coordinates\":null,\"data_source\":{\"id\":\"5729\"},\"glyph\":{\"id\":\"5732\"},\"group\":null,\"hover_glyph\":null,\"muted_glyph\":{\"id\":\"5734\"},\"nonselection_glyph\":{\"id\":\"5733\"},\"selection_glyph\":{\"id\":\"5749\"},\"view\":{\"id\":\"5736\"}},\"id\":\"5735\",\"type\":\"GlyphRenderer\"},{\"attributes\":{},\"id\":\"5677\",\"type\":\"LinearScale\"},{\"attributes\":{\"click_policy\":\"mute\",\"coordinates\":null,\"group\":null,\"items\":[{\"id\":\"5727\"},{\"id\":\"5748\"},{\"id\":\"5771\"}],\"location\":[0,0]},\"id\":\"5726\",\"type\":\"Legend\"},{\"attributes\":{\"axis\":{\"id\":\"5682\"},\"coordinates\":null,\"dimension\":1,\"grid_line_color\":null,\"group\":null,\"ticker\":null},\"id\":\"5685\",\"type\":\"Grid\"},{\"attributes\":{\"fill_alpha\":{\"value\":0.2},\"fill_color\":{\"value\":\"blue\"},\"hatch_alpha\":{\"value\":0.2},\"hatch_color\":{\"value\":\"blue\"},\"line_alpha\":{\"value\":0.2},\"top\":{\"field\":\"Revenue\"},\"width\":{\"value\":0.8},\"x\":{\"field\":\"Years\"}},\"id\":\"5714\",\"type\":\"VBar\"},{\"attributes\":{\"line_color\":\"orange\",\"line_width\":2,\"x\":{\"field\":\"Years\"},\"y\":{\"field\":\"Revenue\"}},\"id\":\"5772\",\"type\":\"Line\"},{\"attributes\":{},\"id\":\"5680\",\"type\":\"CategoricalTicker\"},{\"attributes\":{\"axis\":{\"id\":\"5679\"},\"coordinates\":null,\"grid_line_color\":null,\"group\":null,\"ticker\":null},\"id\":\"5681\",\"type\":\"Grid\"},{\"attributes\":{\"bottom\":{\"value\":0},\"fill_alpha\":{\"value\":1.0},\"fill_color\":{\"value\":\"blue\"},\"hatch_alpha\":{\"value\":1.0},\"hatch_color\":{\"value\":\"blue\"},\"hatch_scale\":{\"value\":12.0},\"hatch_weight\":{\"value\":1.0},\"line_alpha\":{\"value\":1.0},\"line_cap\":{\"value\":\"butt\"},\"line_color\":{\"value\":\"black\"},\"line_dash\":{\"value\":[]},\"line_dash_offset\":{\"value\":0},\"line_join\":{\"value\":\"bevel\"},\"line_width\":{\"value\":1},\"top\":{\"field\":\"Revenue\"},\"width\":{\"value\":0.8},\"x\":{\"field\":\"Years\"}},\"id\":\"5728\",\"type\":\"VBar\"},{\"attributes\":{\"source\":{\"id\":\"5729\"}},\"id\":\"5736\",\"type\":\"CDSView\"},{\"attributes\":{\"children\":[{\"id\":\"5664\"},{\"id\":\"5670\"},{\"id\":\"5786\"}],\"margin\":[0,0,0,0],\"name\":\"Row04931\",\"tags\":[\"embedded\"]},\"id\":\"5663\",\"type\":\"Row\"},{\"attributes\":{\"label\":{\"value\":\"EMEA Revenue\"},\"renderers\":[{\"id\":\"5735\"}]},\"id\":\"5748\",\"type\":\"LegendItem\"},{\"attributes\":{},\"id\":\"5730\",\"type\":\"Selection\"},{\"attributes\":{\"line_alpha\":0.2,\"line_color\":\"orange\",\"line_width\":2,\"x\":{\"field\":\"Years\"},\"y\":{\"field\":\"Revenue\"}},\"id\":\"5734\",\"type\":\"Line\"},{\"attributes\":{},\"id\":\"5683\",\"type\":\"BasicTicker\"},{\"attributes\":{\"axis_label\":\"Revenue\",\"coordinates\":null,\"formatter\":{\"id\":\"5699\"},\"group\":null,\"major_label_policy\":{\"id\":\"5705\"},\"ticker\":{\"id\":\"5683\"}},\"id\":\"5682\",\"type\":\"LinearAxis\"},{\"attributes\":{},\"id\":\"5745\",\"type\":\"UnionRenderers\"},{\"attributes\":{},\"id\":\"5768\",\"type\":\"UnionRenderers\"},{\"attributes\":{\"line_alpha\":0.1,\"line_color\":\"orange\",\"line_width\":2,\"x\":{\"field\":\"Years\"},\"y\":{\"field\":\"Revenue\"}},\"id\":\"5754\",\"type\":\"Line\"},{\"attributes\":{\"margin\":[5,5,5,5],\"name\":\"HSpacer04935\",\"sizing_mode\":\"stretch_width\"},\"id\":\"5664\",\"type\":\"Spacer\"},{\"attributes\":{\"data\":{\"Revenue\":[886649000,975497000,1004749000,1096812000,1233379000,1319087000,1428040000,1562561000,1723474000,1892537000],\"Years\":[\"Q1 - 2018\",\"Q2 - 2018\",\"Q3 - 2018\",\"Q4 - 2018\",\"Q1 - 2019\",\"Q2 - 2019\",\"Q3 - 2019\",\"Q4 - 2019\",\"Q1 - 2020\",\"Q2 - 2020\"]},\"selected\":{\"id\":\"5730\"},\"selection_policy\":{\"id\":\"5745\"}},\"id\":\"5729\",\"type\":\"ColumnDataSource\"},{\"attributes\":{\"line_color\":\"orange\",\"line_width\":2,\"x\":{\"field\":\"Years\"},\"y\":{\"field\":\"Revenue\"}},\"id\":\"5749\",\"type\":\"Line\"},{\"attributes\":{\"line_alpha\":0.1,\"line_color\":\"orange\",\"line_width\":2,\"x\":{\"field\":\"Years\"},\"y\":{\"field\":\"Revenue\"}},\"id\":\"5733\",\"type\":\"Line\"},{\"attributes\":{\"label\":{\"value\":\"USA and CA Revenue\"},\"renderers\":[{\"id\":\"5715\"}]},\"id\":\"5727\",\"type\":\"LegendItem\"},{\"attributes\":{\"coordinates\":null,\"data_source\":{\"id\":\"5750\"},\"glyph\":{\"id\":\"5753\"},\"group\":null,\"hover_glyph\":null,\"muted_glyph\":{\"id\":\"5755\"},\"nonselection_glyph\":{\"id\":\"5754\"},\"selection_glyph\":{\"id\":\"5772\"},\"view\":{\"id\":\"5757\"}},\"id\":\"5756\",\"type\":\"GlyphRenderer\"},{\"attributes\":{\"data\":{\"Revenue\":[1976157000,2049546000,2094850000,2160979000,2256851000,2501199000,2621250000,2671908000,2702776000,2839670000],\"Years\":[\"Q1 - 2018\",\"Q2 - 2018\",\"Q3 - 2018\",\"Q4 - 2018\",\"Q1 - 2019\",\"Q2 - 2019\",\"Q3 - 2019\",\"Q4 - 2019\",\"Q1 - 2020\",\"Q2 - 2020\"]},\"selected\":{\"id\":\"5709\"},\"selection_policy\":{\"id\":\"5723\"}},\"id\":\"5708\",\"type\":\"ColumnDataSource\"},{\"attributes\":{\"fill_alpha\":{\"value\":0.1},\"fill_color\":{\"value\":\"blue\"},\"hatch_alpha\":{\"value\":0.1},\"hatch_color\":{\"value\":\"blue\"},\"line_alpha\":{\"value\":0.1},\"top\":{\"field\":\"Revenue\"},\"width\":{\"value\":0.8},\"x\":{\"field\":\"Years\"}},\"id\":\"5712\",\"type\":\"VBar\"},{\"attributes\":{},\"id\":\"5705\",\"type\":\"AllLabels\"},{\"attributes\":{\"margin\":[5,5,5,5],\"name\":\"HSpacer04936\",\"sizing_mode\":\"stretch_width\"},\"id\":\"5786\",\"type\":\"Spacer\"},{\"attributes\":{\"fill_color\":{\"value\":\"yellow\"},\"hatch_color\":{\"value\":\"yellow\"},\"line_color\":{\"value\":\"yellow\"},\"top\":{\"field\":\"Revenue\"},\"width\":{\"value\":0.8},\"x\":{\"field\":\"Years\"}},\"id\":\"5713\",\"type\":\"VBar\"},{\"attributes\":{\"line_alpha\":0.2,\"line_color\":\"orange\",\"line_width\":2,\"x\":{\"field\":\"Years\"},\"y\":{\"field\":\"Revenue\"}},\"id\":\"5755\",\"type\":\"Line\"},{\"attributes\":{},\"id\":\"5686\",\"type\":\"SaveTool\"},{\"attributes\":{\"format\":\"%.0f\"},\"id\":\"5699\",\"type\":\"PrintfTickFormatter\"},{\"attributes\":{\"coordinates\":null,\"data_source\":{\"id\":\"5708\"},\"glyph\":{\"id\":\"5711\"},\"group\":null,\"hover_glyph\":{\"id\":\"5713\"},\"muted_glyph\":{\"id\":\"5714\"},\"nonselection_glyph\":{\"id\":\"5712\"},\"selection_glyph\":{\"id\":\"5728\"},\"view\":{\"id\":\"5716\"}},\"id\":\"5715\",\"type\":\"GlyphRenderer\"},{\"attributes\":{\"line_color\":\"orange\",\"line_width\":2,\"x\":{\"field\":\"Years\"},\"y\":{\"field\":\"Revenue\"}},\"id\":\"5753\",\"type\":\"Line\"},{\"attributes\":{},\"id\":\"5687\",\"type\":\"PanTool\"},{\"attributes\":{},\"id\":\"5701\",\"type\":\"CategoricalTickFormatter\"},{\"attributes\":{\"background_fill_color\":\"lightgray\",\"below\":[{\"id\":\"5679\"}],\"center\":[{\"id\":\"5681\"},{\"id\":\"5685\"}],\"height\":500,\"left\":[{\"id\":\"5682\"}],\"margin\":[5,5,5,5],\"min_border_bottom\":10,\"min_border_left\":10,\"min_border_right\":10,\"min_border_top\":10,\"renderers\":[{\"id\":\"5715\"},{\"id\":\"5735\"},{\"id\":\"5756\"}],\"right\":[{\"id\":\"5726\"}],\"sizing_mode\":\"fixed\",\"title\":{\"id\":\"5671\"},\"toolbar\":{\"id\":\"5692\"},\"width\":1000,\"x_range\":{\"id\":\"5665\"},\"x_scale\":{\"id\":\"5675\"},\"y_range\":{\"id\":\"5666\"},\"y_scale\":{\"id\":\"5677\"}},\"id\":\"5670\",\"subtype\":\"Figure\",\"type\":\"Plot\"},{\"attributes\":{\"source\":{\"id\":\"5708\"}},\"id\":\"5716\",\"type\":\"CDSView\"},{\"attributes\":{},\"id\":\"5751\",\"type\":\"Selection\"},{\"attributes\":{\"end\":3103725300.0,\"reset_end\":3103725300.0,\"reset_start\":0.0,\"tags\":[[[\"Revenue\",\"Revenue\",null]]]},\"id\":\"5666\",\"type\":\"Range1d\"},{\"attributes\":{},\"id\":\"5688\",\"type\":\"WheelZoomTool\"},{\"attributes\":{\"data\":{\"Revenue\":[199117000,221252000,248691000,276756000,319602000,349494000,382304000,418121000,483660000,569140000],\"Years\":[\"Q1 - 2018\",\"Q2 - 2018\",\"Q3 - 2018\",\"Q4 - 2018\",\"Q1 - 2019\",\"Q2 - 2019\",\"Q3 - 2019\",\"Q4 - 2019\",\"Q1 - 2020\",\"Q2 - 2020\"]},\"selected\":{\"id\":\"5751\"},\"selection_policy\":{\"id\":\"5768\"}},\"id\":\"5750\",\"type\":\"ColumnDataSource\"},{\"attributes\":{},\"id\":\"5702\",\"type\":\"AllLabels\"},{\"attributes\":{},\"id\":\"5723\",\"type\":\"UnionRenderers\"},{\"attributes\":{\"factors\":[\"Q1 - 2018\",\"Q2 - 2018\",\"Q3 - 2018\",\"Q4 - 2018\",\"Q1 - 2019\",\"Q2 - 2019\",\"Q3 - 2019\",\"Q4 - 2019\",\"Q1 - 2020\",\"Q2 - 2020\"],\"tags\":[[[\"Years\",\"Years\",null]]]},\"id\":\"5665\",\"type\":\"FactorRange\"},{\"attributes\":{\"fill_color\":{\"value\":\"blue\"},\"hatch_color\":{\"value\":\"blue\"},\"top\":{\"field\":\"Revenue\"},\"width\":{\"value\":0.8},\"x\":{\"field\":\"Years\"}},\"id\":\"5711\",\"type\":\"VBar\"},{\"attributes\":{\"overlay\":{\"id\":\"5691\"}},\"id\":\"5689\",\"type\":\"BoxZoomTool\"},{\"attributes\":{},\"id\":\"5675\",\"type\":\"CategoricalScale\"},{\"attributes\":{\"coordinates\":null,\"group\":null,\"text_color\":\"black\",\"text_font_size\":\"12pt\"},\"id\":\"5671\",\"type\":\"Title\"}],\"root_ids\":[\"5663\"]},\"title\":\"Bokeh Application\",\"version\":\"2.4.3\"}};\n",
       "    var render_items = [{\"docid\":\"55aab906-466f-4931-bf0d-269341808025\",\"root_ids\":[\"5663\"],\"roots\":{\"5663\":\"ad08f870-0731-4943-b6f5-a9783298d130\"}}];\n",
       "    root.Bokeh.embed.embed_items_notebook(docs_json, render_items);\n",
       "  }\n",
       "  if (root.Bokeh !== undefined && root.Bokeh.Panel !== undefined) {\n",
       "    embed_document(root);\n",
       "  } else {\n",
       "    var attempts = 0;\n",
       "    var timer = setInterval(function(root) {\n",
       "      if (root.Bokeh !== undefined && root.Bokeh.Panel !== undefined) {\n",
       "        clearInterval(timer);\n",
       "        embed_document(root);\n",
       "      } else if (document.readyState == \"complete\") {\n",
       "        attempts++;\n",
       "        if (attempts > 200) {\n",
       "          clearInterval(timer);\n",
       "          console.log(\"Bokeh: ERROR: Unable to run BokehJS code because BokehJS library is missing\");\n",
       "        }\n",
       "      }\n",
       "    }, 25, root)\n",
       "  }\n",
       "})(window);</script>"
      ],
      "text/plain": [
       ":Overlay\n",
       "   .Bars.USA_and_CA_Revenue :Bars   [Years]   (Revenue)\n",
       "   .Curve.EMEA_Revenue      :Curve   [Years]   (Revenue)\n",
       "   .Curve.AP_Revenue        :Curve   [Years]   (Revenue)"
      ]
     },
     "execution_count": 58,
     "metadata": {
      "application/vnd.holoviews_exec.v0+json": {
       "id": "5663"
      }
     },
     "output_type": "execute_result"
    }
   ],
   "source": [
    "# Create a compose plot for all four regions\n",
    "(us_canada_plot * emea_plot * ap_plot).opts(\n",
    "    yformatter=\"%.0f\",\n",
    "    height = 500, \n",
    "    width = 1000,\n",
    "    bgcolor=\"lightgray\"\n",
    ")\n"
   ]
  }
 ],
 "metadata": {
  "kernelspec": {
   "display_name": "Python 3.7.13 ('dev')",
   "language": "python",
   "name": "python3"
  },
  "language_info": {
   "codemirror_mode": {
    "name": "ipython",
    "version": 3
   },
   "file_extension": ".py",
   "mimetype": "text/x-python",
   "name": "python",
   "nbconvert_exporter": "python",
   "pygments_lexer": "ipython3",
   "version": "3.7.13"
  },
  "vscode": {
   "interpreter": {
    "hash": "3f60a6b36217423191b1fff06a0c001f0f27374044b5c2f04bad8ea37cd19fad"
   }
  }
 },
 "nbformat": 4,
 "nbformat_minor": 4
}
